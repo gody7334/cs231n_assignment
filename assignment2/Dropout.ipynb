{
 "cells": [
  {
   "cell_type": "markdown",
   "metadata": {},
   "source": [
    "# Dropout\n",
    "Dropout [1] is a technique for regularizing neural networks by randomly setting some features to zero during the forward pass. In this exercise you will implement a dropout layer and modify your fully-connected network to optionally use dropout.\n",
    "\n",
    "[1] Geoffrey E. Hinton et al, \"Improving neural networks by preventing co-adaptation of feature detectors\", arXiv 2012"
   ]
  },
  {
   "cell_type": "code",
   "execution_count": 40,
   "metadata": {
    "collapsed": false
   },
   "outputs": [
    {
     "name": "stdout",
     "output_type": "stream",
     "text": [
      "The autoreload extension is already loaded. To reload it, use:\n",
      "  %reload_ext autoreload\n"
     ]
    }
   ],
   "source": [
    "# As usual, a bit of setup\n",
    "\n",
    "import time\n",
    "import numpy as np\n",
    "import matplotlib.pyplot as plt\n",
    "\n",
    "from cs231n.classifiers.fc_net import *\n",
    "# from cs231n.classifiers.fc_net_sample import *\n",
    "\n",
    "from cs231n.data_utils import get_CIFAR10_data\n",
    "from cs231n.gradient_check import eval_numerical_gradient, eval_numerical_gradient_array\n",
    "from cs231n.solver import Solver\n",
    "\n",
    "%matplotlib inline\n",
    "plt.rcParams['figure.figsize'] = (10.0, 8.0) # set default size of plots\n",
    "plt.rcParams['image.interpolation'] = 'nearest'\n",
    "plt.rcParams['image.cmap'] = 'gray'\n",
    "\n",
    "# for auto-reloading external modules\n",
    "# see http://stackoverflow.com/questions/1907993/autoreload-of-modules-in-ipython\n",
    "%load_ext autoreload\n",
    "%autoreload 2\n",
    "\n",
    "def rel_error(x, y):\n",
    "  \"\"\" returns relative error \"\"\"\n",
    "  return np.max(np.abs(x - y) / (np.maximum(1e-8, np.abs(x) + np.abs(y))))"
   ]
  },
  {
   "cell_type": "code",
   "execution_count": 2,
   "metadata": {
    "collapsed": false
   },
   "outputs": [
    {
     "name": "stdout",
     "output_type": "stream",
     "text": [
      "X_val:  (1000, 3, 32, 32)\n",
      "X_train:  (49000, 3, 32, 32)\n",
      "X_test:  (1000, 3, 32, 32)\n",
      "y_val:  (1000,)\n",
      "y_train:  (49000,)\n",
      "y_test:  (1000,)\n"
     ]
    }
   ],
   "source": [
    "# Load the (preprocessed) CIFAR10 data.\n",
    "\n",
    "data = get_CIFAR10_data()\n",
    "for k, v in data.iteritems():\n",
    "  print '%s: ' % k, v.shape"
   ]
  },
  {
   "cell_type": "markdown",
   "metadata": {},
   "source": [
    "# Dropout forward pass\n",
    "In the file `cs231n/layers.py`, implement the forward pass for dropout. Since dropout behaves differently during training and testing, make sure to implement the operation for both modes.\n",
    "\n",
    "Once you have done so, run the cell below to test your implementation."
   ]
  },
  {
   "cell_type": "code",
   "execution_count": 19,
   "metadata": {
    "collapsed": false
   },
   "outputs": [
    {
     "name": "stdout",
     "output_type": "stream",
     "text": [
      "Running tests with p =  0.3\n",
      "Mean of input:  9.99728822169\n",
      "Mean of train-time output:  9.98159157562\n",
      "Mean of test-time output:  9.99728822169\n",
      "Fraction of train-time output set to zero:  0.700508\n",
      "Fraction of test-time output set to zero:  0.0\n",
      "\n",
      "Running tests with p =  0.6\n",
      "Mean of input:  9.99728822169\n",
      "Mean of train-time output:  9.98225077696\n",
      "Mean of test-time output:  9.99728822169\n",
      "Fraction of train-time output set to zero:  0.400836\n",
      "Fraction of test-time output set to zero:  0.0\n",
      "\n",
      "Running tests with p =  0.75\n",
      "Mean of input:  9.99728822169\n",
      "Mean of train-time output:  10.0054629384\n",
      "Mean of test-time output:  9.99728822169\n",
      "Fraction of train-time output set to zero:  0.24944\n",
      "Fraction of test-time output set to zero:  0.0\n",
      "\n"
     ]
    }
   ],
   "source": [
    "x = np.random.randn(500, 500) + 10\n",
    "\n",
    "for p in [0.3, 0.6, 0.75]:\n",
    "  out, _ = dropout_forward(x, {'mode': 'train', 'p': p})\n",
    "  out_test, _ = dropout_forward(x, {'mode': 'test', 'p': p})\n",
    "\n",
    "  print 'Running tests with p = ', p\n",
    "  print 'Mean of input: ', x.mean()\n",
    "  print 'Mean of train-time output: ', out.mean()\n",
    "  print 'Mean of test-time output: ', out_test.mean()\n",
    "  print 'Fraction of train-time output set to zero: ', (out == 0).mean()\n",
    "  print 'Fraction of test-time output set to zero: ', (out_test == 0).mean()\n",
    "  print"
   ]
  },
  {
   "cell_type": "markdown",
   "metadata": {},
   "source": [
    "# Dropout backward pass\n",
    "In the file `cs231n/layers.py`, implement the backward pass for dropout. After doing so, run the following cell to numerically gradient-check your implementation."
   ]
  },
  {
   "cell_type": "code",
   "execution_count": 20,
   "metadata": {
    "collapsed": false
   },
   "outputs": [
    {
     "name": "stdout",
     "output_type": "stream",
     "text": [
      "dx relative error:  5.44560957715e-11\n"
     ]
    }
   ],
   "source": [
    "x = np.random.randn(10, 10) + 10\n",
    "dout = np.random.randn(*x.shape)\n",
    "\n",
    "dropout_param = {'mode': 'train', 'p': 0.8, 'seed': 123}\n",
    "out, cache = dropout_forward(x, dropout_param)\n",
    "dx = dropout_backward(dout, cache)\n",
    "dx_num = eval_numerical_gradient_array(lambda xx: dropout_forward(xx, dropout_param)[0], x, dout)\n",
    "\n",
    "print 'dx relative error: ', rel_error(dx, dx_num)"
   ]
  },
  {
   "cell_type": "markdown",
   "metadata": {},
   "source": [
    "# Fully-connected nets with Dropout\n",
    "In the file `cs231n/classifiers/fc_net.py`, modify your implementation to use dropout. Specificially, if the constructor the the net receives a nonzero value for the `dropout` parameter, then the net should add dropout immediately after every ReLU nonlinearity. After doing so, run the following to numerically gradient-check your implementation."
   ]
  },
  {
   "cell_type": "code",
   "execution_count": 51,
   "metadata": {
    "collapsed": false
   },
   "outputs": [
    {
     "name": "stdout",
     "output_type": "stream",
     "text": [
      "Running check with dropout =  0\n",
      "Initial loss:  2.30304316117\n",
      "W1 relative error: 4.80e-07\n",
      "W2 relative error: 1.97e-07\n",
      "W3 relative error: 1.56e-07\n",
      "b1 relative error: 2.03e-08\n",
      "b2 relative error: 1.69e-09\n",
      "b3 relative error: 1.11e-10\n",
      "\n",
      "Running check with dropout =  0.25\n",
      "Initial loss:  2.30235424783\n",
      "W1 relative error: 1.00e-07\n",
      "W2 relative error: 2.26e-09\n",
      "W3 relative error: 2.56e-05\n",
      "b1 relative error: 9.37e-10\n",
      "b2 relative error: 2.13e-01\n",
      "b3 relative error: 1.25e-10\n",
      "\n",
      "Running check with dropout =  0.5\n",
      "Initial loss:  2.30424261716\n",
      "W1 relative error: 1.21e-07\n",
      "W2 relative error: 2.45e-08\n",
      "W3 relative error: 8.06e-07\n",
      "b1 relative error: 2.28e-08\n",
      "b2 relative error: 6.84e-10\n",
      "b3 relative error: 1.28e-10\n",
      "\n",
      "Running check with dropout =  0.75\n",
      "Initial loss:  2.30149284277\n",
      "W1 relative error: 9.83e-08\n",
      "W2 relative error: 1.24e-07\n",
      "W3 relative error: 7.07e-08\n",
      "b1 relative error: 6.57e-08\n",
      "b2 relative error: 2.50e-09\n",
      "b3 relative error: 1.59e-10\n",
      "\n"
     ]
    }
   ],
   "source": [
    "N, D, H1, H2, C = 2, 15, 20, 30, 10\n",
    "X = np.random.randn(N, D)\n",
    "y = np.random.randint(C, size=(N,))\n",
    "\n",
    "for dropout in [0, 0.25, 0.5, 0.75]:\n",
    "  print 'Running check with dropout = ', dropout\n",
    "  model = FullyConnectedNet([H1, H2], input_dim=D, num_classes=C,\n",
    "                            weight_scale=5e-2, dtype=np.float64,\n",
    "                            dropout=dropout, seed=123)\n",
    "\n",
    "  loss, grads = model.loss(X, y)\n",
    "  print 'Initial loss: ', loss\n",
    "\n",
    "  for name in sorted(grads):\n",
    "    f = lambda _: model.loss(X, y)[0]\n",
    "    grad_num = eval_numerical_gradient(f, model.params[name], verbose=False, h=1e-5)\n",
    "    print '%s relative error: %.2e' % (name, rel_error(grad_num, grads[name]))\n",
    "  print"
   ]
  },
  {
   "cell_type": "markdown",
   "metadata": {},
   "source": [
    "# Regularization experiment\n",
    "As an experiment, we will train a pair of two-layer networks on 500 training examples: one will use no dropout, and one will use a dropout probability of 0.75. We will then visualize the training and validation accuracies of the two networks over time."
   ]
  },
  {
   "cell_type": "code",
   "execution_count": 89,
   "metadata": {
    "collapsed": false,
    "scrolled": true
   },
   "outputs": [
    {
     "name": "stdout",
     "output_type": "stream",
     "text": [
      "0.0\n",
      "(Iteration 1 / 980) loss: 2.302118\n",
      "(Epoch 0 / 20) train acc: 0.251000; val_acc: 0.252000\n",
      "(Epoch 1 / 20) train acc: 0.454000; val_acc: 0.461000\n",
      "(Epoch 2 / 20) train acc: 0.526000; val_acc: 0.482000\n",
      "(Iteration 101 / 980) loss: 1.372923\n",
      "(Epoch 3 / 20) train acc: 0.528000; val_acc: 0.491000\n",
      "(Epoch 4 / 20) train acc: 0.525000; val_acc: 0.491000\n",
      "(Iteration 201 / 980) loss: 1.293716\n",
      "(Epoch 5 / 20) train acc: 0.592000; val_acc: 0.522000\n",
      "(Epoch 6 / 20) train acc: 0.604000; val_acc: 0.527000\n",
      "(Iteration 301 / 980) loss: 1.135442\n",
      "(Epoch 7 / 20) train acc: 0.614000; val_acc: 0.530000\n",
      "(Epoch 8 / 20) train acc: 0.627000; val_acc: 0.534000\n",
      "(Iteration 401 / 980) loss: 1.055845\n",
      "(Epoch 9 / 20) train acc: 0.643000; val_acc: 0.550000\n",
      "(Epoch 10 / 20) train acc: 0.645000; val_acc: 0.527000\n",
      "(Iteration 501 / 980) loss: 0.963977\n",
      "(Epoch 11 / 20) train acc: 0.661000; val_acc: 0.534000\n",
      "(Epoch 12 / 20) train acc: 0.689000; val_acc: 0.557000\n",
      "(Iteration 601 / 980) loss: 0.923502\n",
      "(Epoch 13 / 20) train acc: 0.693000; val_acc: 0.547000\n",
      "(Epoch 14 / 20) train acc: 0.729000; val_acc: 0.544000\n",
      "(Iteration 701 / 980) loss: 0.864991\n",
      "(Epoch 15 / 20) train acc: 0.710000; val_acc: 0.554000\n",
      "(Epoch 16 / 20) train acc: 0.732000; val_acc: 0.549000\n",
      "(Iteration 801 / 980) loss: 0.777044\n",
      "(Epoch 17 / 20) train acc: 0.757000; val_acc: 0.544000\n",
      "(Epoch 18 / 20) train acc: 0.753000; val_acc: 0.540000\n",
      "(Iteration 901 / 980) loss: 0.731807\n",
      "(Epoch 19 / 20) train acc: 0.751000; val_acc: 0.557000\n",
      "(Epoch 20 / 20) train acc: 0.790000; val_acc: 0.564000\n",
      "0.75\n",
      "(Iteration 1 / 980) loss: 2.304454\n",
      "(Epoch 0 / 20) train acc: 0.243000; val_acc: 0.250000\n",
      "(Epoch 1 / 20) train acc: 0.449000; val_acc: 0.437000\n",
      "(Epoch 2 / 20) train acc: 0.491000; val_acc: 0.476000\n",
      "(Iteration 101 / 980) loss: 1.436736\n",
      "(Epoch 3 / 20) train acc: 0.501000; val_acc: 0.487000\n",
      "(Epoch 4 / 20) train acc: 0.511000; val_acc: 0.500000\n",
      "(Iteration 201 / 980) loss: 1.352551\n",
      "(Epoch 5 / 20) train acc: 0.576000; val_acc: 0.515000\n",
      "(Epoch 6 / 20) train acc: 0.564000; val_acc: 0.514000\n",
      "(Iteration 301 / 980) loss: 1.306400\n",
      "(Epoch 7 / 20) train acc: 0.600000; val_acc: 0.525000\n",
      "(Epoch 8 / 20) train acc: 0.611000; val_acc: 0.524000\n",
      "(Iteration 401 / 980) loss: 1.235112\n",
      "(Epoch 9 / 20) train acc: 0.636000; val_acc: 0.534000\n",
      "(Epoch 10 / 20) train acc: 0.609000; val_acc: 0.535000\n",
      "(Iteration 501 / 980) loss: 1.118206\n",
      "(Epoch 11 / 20) train acc: 0.657000; val_acc: 0.546000\n",
      "(Epoch 12 / 20) train acc: 0.636000; val_acc: 0.545000\n",
      "(Iteration 601 / 980) loss: 1.122051\n",
      "(Epoch 13 / 20) train acc: 0.657000; val_acc: 0.539000\n",
      "(Epoch 14 / 20) train acc: 0.667000; val_acc: 0.533000\n",
      "(Iteration 701 / 980) loss: 1.092186\n",
      "(Epoch 15 / 20) train acc: 0.668000; val_acc: 0.550000\n",
      "(Epoch 16 / 20) train acc: 0.682000; val_acc: 0.516000\n",
      "(Iteration 801 / 980) loss: 1.012251\n",
      "(Epoch 17 / 20) train acc: 0.675000; val_acc: 0.540000\n",
      "(Epoch 18 / 20) train acc: 0.695000; val_acc: 0.553000\n",
      "(Iteration 901 / 980) loss: 0.994250\n",
      "(Epoch 19 / 20) train acc: 0.703000; val_acc: 0.557000\n",
      "(Epoch 20 / 20) train acc: 0.694000; val_acc: 0.539000\n"
     ]
    }
   ],
   "source": [
    "# Train two identical nets, one with dropout and one without\n",
    "\n",
    "num_train = 500\n",
    "small_data = {\n",
    "  'X_train': data['X_train'][:num_train],\n",
    "  'y_train': data['y_train'][:num_train],\n",
    "  'X_val': data['X_val'],\n",
    "  'y_val': data['y_val'],\n",
    "}\n",
    "\n",
    "solvers = {}\n",
    "dropout_choices = [0.0, 0.75]\n",
    "for dropout in dropout_choices:\n",
    "  model = FullyConnectedNet([500], dropout=dropout)\n",
    "  print dropout\n",
    "\n",
    "  solver = Solver(model, small_data,\n",
    "                  num_epochs=20, batch_size=100,\n",
    "                  update_rule='adam',\n",
    "                  optim_config={\n",
    "                    'learning_rate': 5e-4,\n",
    "                  },\n",
    "                  verbose=True, print_every=100)\n",
    "  solver.train()\n",
    "  solvers[dropout] = solver"
   ]
  },
  {
   "cell_type": "code",
   "execution_count": 90,
   "metadata": {
    "collapsed": false
   },
   "outputs": [
    {
     "data": {
      "image/png": "[encoded data removed]",
      "text/plain": [
       "<matplotlib.figure.Figure at 0x7f6c306e49d0>"
      ]
     },
     "metadata": {},
     "output_type": "display_data"
    }
   ],
   "source": [
    "# Plot train and validation accuracies of the two models\n",
    "\n",
    "train_accs = []\n",
    "val_accs = []\n",
    "for dropout in dropout_choices:\n",
    "  solver = solvers[dropout]\n",
    "  train_accs.append(solver.train_acc_history[-1])\n",
    "  val_accs.append(solver.val_acc_history[-1])\n",
    "\n",
    "plt.subplot(3, 1, 1)\n",
    "for dropout in dropout_choices:\n",
    "  plt.plot(solvers[dropout].train_acc_history, 'o', label='%.2f dropout' % dropout)\n",
    "plt.title('Train accuracy')\n",
    "plt.xlabel('Epoch')\n",
    "plt.ylabel('Accuracy')\n",
    "plt.legend(ncol=2, loc='lower right')\n",
    "  \n",
    "plt.subplot(3, 1, 2)\n",
    "for dropout in dropout_choices:\n",
    "  plt.plot(solvers[dropout].val_acc_history, 'o', label='%.2f dropout' % dropout)\n",
    "plt.title('Val accuracy')\n",
    "plt.xlabel('Epoch')\n",
    "plt.ylabel('Accuracy')\n",
    "plt.legend(ncol=2, loc='lower right')\n",
    "\n",
    "plt.gcf().set_size_inches(15, 15)\n",
    "plt.show()"
   ]
  },
  {
   "cell_type": "markdown",
   "metadata": {},
   "source": [
    "# Question\n",
    "Explain what you see in this experiment. What does it suggest about dropout?"
   ]
  },
  {
   "cell_type": "markdown",
   "metadata": {},
   "source": [
    "# Answer\n"
   ]
  }
 ],
 "metadata": {
  "kernelspec": {
   "display_name": "Python 2",
   "language": "python",
   "name": "python2"
  },
  "language_info": {
   "codemirror_mode": {
    "name": "ipython",
    "version": 2
   },
   "file_extension": ".py",
   "mimetype": "text/x-python",
   "name": "python",
   "nbconvert_exporter": "python",
   "pygments_lexer": "ipython2",
   "version": "2.7.13"
  }
 },
 "nbformat": 4,
 "nbformat_minor": 0
}

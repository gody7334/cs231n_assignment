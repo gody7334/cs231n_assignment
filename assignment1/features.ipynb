{
 "cells": [
  {
   "cell_type": "markdown",
   "metadata": {},
   "source": [
    "# Image features exercise\n",
    "*Complete and hand in this completed worksheet (including its outputs and any supporting code outside of the worksheet) with your assignment submission. For more details see the [assignments page](http://vision.stanford.edu/teaching/cs231n/assignments.html) on the course website.*\n",
    "\n",
    "We have seen that we can achieve reasonable performance on an image classification task by training a linear classifier on the pixels of the input image. In this exercise we will show that we can improve our classification performance by training linear classifiers not on raw pixels but on features that are computed from the raw pixels.\n",
    "\n",
    "All of your work for this exercise will be done in this notebook."
   ]
  },
  {
   "cell_type": "code",
   "execution_count": 1,
   "metadata": {
    "collapsed": false
   },
   "outputs": [],
   "source": [
    "import random\n",
    "import numpy as np\n",
    "from cs231n.data_utils import load_CIFAR10\n",
    "import matplotlib.pyplot as plt\n",
    "import pickle\n",
    "\n",
    "%matplotlib inline\n",
    "plt.rcParams['figure.figsize'] = (10.0, 8.0) # set default size of plots\n",
    "plt.rcParams['image.interpolation'] = 'nearest'\n",
    "plt.rcParams['image.cmap'] = 'gray'\n",
    "\n",
    "# for auto-reloading extenrnal modules\n",
    "# see http://stackoverflow.com/questions/1907993/autoreload-of-modules-in-ipython\n",
    "%load_ext autoreload\n",
    "%autoreload 2"
   ]
  },
  {
   "cell_type": "markdown",
   "metadata": {},
   "source": [
    "## Load data\n",
    "Similar to previous exercises, we will load CIFAR-10 data from disk."
   ]
  },
  {
   "cell_type": "code",
   "execution_count": 2,
   "metadata": {
    "collapsed": false
   },
   "outputs": [],
   "source": [
    "from cs231n.features import color_histogram_hsv, hog_feature\n",
    "\n",
    "def get_CIFAR10_data(num_training=4900, num_validation=100, num_test=100):\n",
    "  # Load the raw CIFAR-10 data\n",
    "  cifar10_dir = 'cs231n/datasets/cifar-10-batches-py'\n",
    "#   X_train, y_train, X_test, y_test = load_CIFAR10(cifar10_dir)\n",
    "  X_train = pickle.load(open(\"X_train_5000\", \"rb\"))\n",
    "  y_train = pickle.load(open(\"y_train_5000\", \"rb\"))\n",
    "  X_test = pickle.load(open(\"X_test_500\", \"rb\"))\n",
    "  y_test = pickle.load(open(\"y_test_500\", \"rb\"))\n",
    "  \n",
    "  # Subsample the data\n",
    "  mask = range(num_training, num_training + num_validation)\n",
    "  X_val = X_train[mask]\n",
    "  y_val = y_train[mask]\n",
    "  mask = range(num_training)\n",
    "  X_train = X_train[mask]\n",
    "  y_train = y_train[mask]\n",
    "  mask = range(num_test)\n",
    "  X_test = X_test[mask]\n",
    "  y_test = y_test[mask]\n",
    "\n",
    "  return X_train, y_train, X_val, y_val, X_test, y_test\n",
    "\n",
    "X_train, y_train, X_val, y_val, X_test, y_test = get_CIFAR10_data()"
   ]
  },
  {
   "cell_type": "markdown",
   "metadata": {},
   "source": [
    "## Extract Features\n",
    "For each image we will compute a Histogram of Oriented\n",
    "Gradients (HOG) as well as a color histogram using the hue channel in HSV\n",
    "color space. We form our final feature vector for each image by concatenating\n",
    "the HOG and color histogram feature vectors.\n",
    "\n",
    "Roughly speaking, HOG should capture the texture of the image while ignoring\n",
    "color information, and the color histogram represents the color of the input\n",
    "image while ignoring texture. As a result, we expect that using both together\n",
    "ought to work better than using either alone. Verifying this assumption would\n",
    "be a good thing to try for the bonus section.\n",
    "\n",
    "The `hog_feature` and `color_histogram_hsv` functions both operate on a single\n",
    "image and return a feature vector for that image. The extract_features\n",
    "function takes a set of images and a list of feature functions and evaluates\n",
    "each feature function on each image, storing the results in a matrix where\n",
    "each column is the concatenation of all feature vectors for a single image."
   ]
  },
  {
   "cell_type": "code",
   "execution_count": 3,
   "metadata": {
    "collapsed": false
   },
   "outputs": [
    {
     "name": "stdout",
     "output_type": "stream",
     "text": [
      "Done extracting features for 1000 / 4900 images\n",
      "Done extracting features for 2000 / 4900 images\n",
      "Done extracting features for 3000 / 4900 images\n",
      "Done extracting features for 4000 / 4900 images\n"
     ]
    }
   ],
   "source": [
    "from cs231n.features import *\n",
    "\n",
    "num_color_bins = 10 # Number of bins in the color histogram\n",
    "feature_fns = [hog_feature, lambda img: color_histogram_hsv(img, nbin=num_color_bins)]\n",
    "X_train_feats = extract_features(X_train, feature_fns, verbose=True)\n",
    "X_val_feats = extract_features(X_val, feature_fns)\n",
    "X_test_feats = extract_features(X_test, feature_fns)\n",
    "\n",
    "# Preprocessing: Subtract the mean feature\n",
    "mean_feat = np.mean(X_train_feats, axis=0, keepdims=True)\n",
    "X_train_feats -= mean_feat\n",
    "X_val_feats -= mean_feat\n",
    "X_test_feats -= mean_feat\n",
    "\n",
    "# Preprocessing: Divide by standard deviation. This ensures that each feature\n",
    "# has roughly the same scale.\n",
    "std_feat = np.std(X_train_feats, axis=0, keepdims=True)\n",
    "X_train_feats /= std_feat\n",
    "X_val_feats /= std_feat\n",
    "X_test_feats /= std_feat\n",
    "\n",
    "# Preprocessing: Add a bias dimension\n",
    "X_train_feats = np.hstack([X_train_feats, np.ones((X_train_feats.shape[0], 1))])\n",
    "X_val_feats = np.hstack([X_val_feats, np.ones((X_val_feats.shape[0], 1))])\n",
    "X_test_feats = np.hstack([X_test_feats, np.ones((X_test_feats.shape[0], 1))])"
   ]
  },
  {
   "cell_type": "markdown",
   "metadata": {},
   "source": [
    "## Train SVM on features\n",
    "Using the multiclass SVM code developed earlier in the assignment, train SVMs on top of the features extracted above; this should achieve better results than training SVMs directly on top of raw pixels."
   ]
  },
  {
   "cell_type": "code",
   "execution_count": 6,
   "metadata": {
    "collapsed": false,
    "scrolled": true
   },
   "outputs": [
    {
     "name": "stdout",
     "output_type": "stream",
     "text": [
      "2.40269564202e-09 923291.841418\n",
      "iteration 0 / 500: loss 704.414778\n",
      "iteration 100 / 500: loss 455.003063\n",
      "iteration 200 / 500: loss 295.039263\n",
      "iteration 300 / 500: loss 192.465531\n",
      "iteration 400 / 500: loss 126.664208\n",
      "training accuracy: 0.112653\n",
      "validation accuracy: 0.100000\n",
      "6.78290304824e-09 447630.757836\n",
      "iteration 0 / 500: loss 368.263212\n",
      "iteration 100 / 500: loss 204.572435\n",
      "iteration 200 / 500: loss 115.465206\n",
      "iteration 300 / 500: loss 66.950177\n",
      "iteration 400 / 500: loss 40.545239\n",
      "training accuracy: 0.102653\n",
      "validation accuracy: 0.140000\n",
      "4.50619104972e-08 181753.893163\n",
      "iteration 0 / 500: loss 145.129590\n",
      "iteration 100 / 500: loss 35.284995\n",
      "iteration 200 / 500: loss 14.071990\n",
      "iteration 300 / 500: loss 9.981083\n",
      "iteration 400 / 500: loss 9.189163\n",
      "training accuracy: 0.152449\n",
      "validation accuracy: 0.130000\n",
      "2.87408308816e-09 817439.301349\n",
      "iteration 0 / 500: loss 614.995831\n",
      "iteration 100 / 500: loss 387.576214\n",
      "iteration 200 / 500: loss 245.503682\n",
      "iteration 300 / 500: loss 156.751953\n",
      "iteration 400 / 500: loss 101.317812\n",
      "training accuracy: 0.087347\n",
      "validation accuracy: 0.080000\n",
      "1.59023744078e-09 653462.316014\n",
      "iteration 0 / 500: loss 524.306308\n",
      "iteration 100 / 500: loss 427.559021\n",
      "iteration 200 / 500: loss 348.979014\n",
      "iteration 300 / 500: loss 285.132914\n",
      "iteration 400 / 500: loss 233.292213\n",
      "training accuracy: 0.090408\n",
      "validation accuracy: 0.110000\n",
      "5.20570277138e-09 109330.449682\n",
      "iteration 0 / 500: loss 94.579568\n",
      "iteration 100 / 500: loss 85.363760\n",
      "iteration 200 / 500: loss 77.134412\n",
      "iteration 300 / 500: loss 69.807626\n",
      "iteration 400 / 500: loss 63.268387\n",
      "training accuracy: 0.125918\n",
      "validation accuracy: 0.130000\n",
      "1.36405491571e-09 3274215.68628\n",
      "iteration 0 / 500: loss 2535.588332\n",
      "iteration 100 / 500: loss 1041.121935\n",
      "iteration 200 / 500: loss 430.636949\n",
      "iteration 300 / 500: loss 181.240175\n",
      "iteration 400 / 500: loss 79.362245\n",
      "training accuracy: 0.081429\n",
      "validation accuracy: 0.050000\n",
      "1.24018168574e-09 478506.763069\n",
      "iteration 0 / 500: loss 387.120484\n",
      "iteration 100 / 500: loss 344.790233\n",
      "iteration 200 / 500: loss 307.207399\n",
      "iteration 300 / 500: loss 273.828187\n",
      "iteration 400 / 500: loss 244.175595\n",
      "training accuracy: 0.097551\n",
      "validation accuracy: 0.080000\n",
      "1.1575503044e-08 242032.637701\n",
      "iteration 0 / 500: loss 210.211128\n",
      "iteration 100 / 500: loss 123.794496\n",
      "iteration 200 / 500: loss 74.492234\n",
      "iteration 300 / 500: loss 46.376404\n",
      "iteration 400 / 500: loss 30.319898\n",
      "training accuracy: 0.097959\n",
      "validation accuracy: 0.070000\n",
      "1.86492676684e-09 920213.793539\n",
      "iteration 0 / 500: loss 679.738422\n",
      "iteration 100 / 500: loss 484.730481\n",
      "iteration 200 / 500: loss 346.418432\n",
      "iteration 300 / 500: loss 248.319188\n",
      "iteration 400 / 500: loss 178.739453\n",
      "training accuracy: 0.101224\n",
      "validation accuracy: 0.100000\n",
      "9.57182117523e-08 786148.522803\n",
      "iteration 0 / 500: loss 623.392215\n",
      "iteration 100 / 500: loss 9.000042\n",
      "iteration 200 / 500: loss 8.999955\n",
      "iteration 300 / 500: loss 8.999955\n",
      "iteration 400 / 500: loss 8.999955\n",
      "training accuracy: 0.431633\n",
      "validation accuracy: 0.340000\n",
      "2.13435233623e-08 1408859.60094\n",
      "iteration 0 / 500: loss 1124.710328\n",
      "iteration 100 / 500: loss 11.486913\n",
      "iteration 200 / 500: loss 9.005549\n",
      "iteration 300 / 500: loss 8.999986\n",
      "iteration 400 / 500: loss 8.999974\n",
      "training accuracy: 0.429388\n",
      "validation accuracy: 0.330000\n",
      "2.59653933951e-08 931995.546029\n",
      "iteration 0 / 500: loss 715.932421\n",
      "iteration 100 / 500: loss 14.266210\n",
      "iteration 200 / 500: loss 9.039158\n",
      "iteration 300 / 500: loss 9.000259\n",
      "iteration 400 / 500: loss 8.999961\n",
      "training accuracy: 0.425714\n",
      "validation accuracy: 0.300000\n",
      "6.36708413129e-08 118275.316771\n",
      "iteration 0 / 500: loss 103.571517\n",
      "iteration 100 / 500: loss 29.856342\n",
      "iteration 200 / 500: loss 13.599923\n",
      "iteration 300 / 500: loss 10.013276\n",
      "iteration 400 / 500: loss 9.223254\n",
      "training accuracy: 0.150408\n",
      "validation accuracy: 0.150000\n",
      "1.77403613167e-09 107232.336063\n",
      "iteration 0 / 500: loss 97.425802\n",
      "iteration 100 / 500: loss 94.123488\n",
      "iteration 200 / 500: loss 90.959903\n",
      "iteration 300 / 500: loss 87.888424\n",
      "iteration 400 / 500: loss 84.934988\n",
      "training accuracy: 0.096531\n",
      "validation accuracy: 0.130000\n",
      "1.77919452906e-08 229703.187867\n",
      "iteration 0 / 500: loss 177.018268\n",
      "iteration 100 / 500: loss 83.072532\n",
      "iteration 200 / 500: loss 41.651588\n",
      "iteration 300 / 500: loss 23.394412\n",
      "iteration 400 / 500: loss 15.347912\n",
      "training accuracy: 0.102653\n",
      "validation accuracy: 0.070000\n",
      "1.41629075199e-08 307308.89101\n",
      "iteration 0 / 500: loss 231.859634\n",
      "iteration 100 / 500: loss 102.142015\n",
      "iteration 200 / 500: loss 47.927024\n",
      "iteration 300 / 500: loss 25.268130\n",
      "iteration 400 / 500: loss 15.802569\n",
      "training accuracy: 0.098367\n",
      "validation accuracy: 0.120000\n",
      "3.4879297658e-09 361691.054328\n",
      "iteration 0 / 500: loss 277.686692\n",
      "iteration 100 / 500: loss 217.721296\n",
      "iteration 200 / 500: loss 171.150235\n",
      "iteration 300 / 500: loss 134.975004\n",
      "iteration 400 / 500: loss 106.862209\n",
      "training accuracy: 0.126327\n",
      "validation accuracy: 0.050000\n",
      "6.91581305477e-09 1694863.00005\n",
      "iteration 0 / 500: loss 1274.669899\n",
      "iteration 100 / 500: loss 128.731212\n",
      "iteration 200 / 500: loss 20.325209\n",
      "iteration 300 / 500: loss 10.071162\n",
      "iteration 400 / 500: loss 9.101375\n",
      "training accuracy: 0.127347\n",
      "validation accuracy: 0.110000\n",
      "4.4027316742e-09 988337.060969\n",
      "iteration 0 / 500: loss 754.576479\n",
      "iteration 100 / 500: loss 320.677210\n",
      "iteration 200 / 500: loss 139.291226\n",
      "iteration 300 / 500: loss 63.466962\n",
      "iteration 400 / 500: loss 31.770929\n",
      "training accuracy: 0.083265\n",
      "validation accuracy: 0.130000\n",
      "lr 1.240182e-09 reg 4.785068e+05 train accuracy: 0.097551 val accuracy: 0.080000\n",
      "lr 1.364055e-09 reg 3.274216e+06 train accuracy: 0.081429 val accuracy: 0.050000\n",
      "lr 1.590237e-09 reg 6.534623e+05 train accuracy: 0.090408 val accuracy: 0.110000\n",
      "lr 1.774036e-09 reg 1.072323e+05 train accuracy: 0.096531 val accuracy: 0.130000\n",
      "lr 1.864927e-09 reg 9.202138e+05 train accuracy: 0.101224 val accuracy: 0.100000\n",
      "lr 2.402696e-09 reg 9.232918e+05 train accuracy: 0.112653 val accuracy: 0.100000\n",
      "lr 2.874083e-09 reg 8.174393e+05 train accuracy: 0.087347 val accuracy: 0.080000\n",
      "lr 3.487930e-09 reg 3.616911e+05 train accuracy: 0.126327 val accuracy: 0.050000\n",
      "lr 4.402732e-09 reg 9.883371e+05 train accuracy: 0.083265 val accuracy: 0.130000\n",
      "lr 5.205703e-09 reg 1.093304e+05 train accuracy: 0.125918 val accuracy: 0.130000\n",
      "lr 6.782903e-09 reg 4.476308e+05 train accuracy: 0.102653 val accuracy: 0.140000\n",
      "lr 6.915813e-09 reg 1.694863e+06 train accuracy: 0.127347 val accuracy: 0.110000\n",
      "lr 1.157550e-08 reg 2.420326e+05 train accuracy: 0.097959 val accuracy: 0.070000\n",
      "lr 1.416291e-08 reg 3.073089e+05 train accuracy: 0.098367 val accuracy: 0.120000\n",
      "lr 1.779195e-08 reg 2.297032e+05 train accuracy: 0.102653 val accuracy: 0.070000\n",
      "lr 2.134352e-08 reg 1.408860e+06 train accuracy: 0.429388 val accuracy: 0.330000\n",
      "lr 2.596539e-08 reg 9.319955e+05 train accuracy: 0.425714 val accuracy: 0.300000\n",
      "lr 4.506191e-08 reg 1.817539e+05 train accuracy: 0.152449 val accuracy: 0.130000\n",
      "lr 6.367084e-08 reg 1.182753e+05 train accuracy: 0.150408 val accuracy: 0.150000\n",
      "lr 9.571821e-08 reg 7.861485e+05 train accuracy: 0.431633 val accuracy: 0.340000\n",
      "best validation accuracy achieved during cross-validation: 0.340000\n"
     ]
    }
   ],
   "source": [
    "# Use the validation set to tune the learning rate and regularization strength\n",
    "\n",
    "from cs231n.classifiers.linear_classifier import LinearSVM\n",
    "from numpy.random import uniform\n",
    "\n",
    "learning_rates = [1e-9, 1e-8, 1e-7]\n",
    "regularization_strengths = [1e5, 1e6, 1e7]\n",
    "\n",
    "results = {}\n",
    "best_val = -1\n",
    "best_svm = None\n",
    "\n",
    "pass\n",
    "################################################################################\n",
    "# TODO:                                                                        #\n",
    "# Use the validation set to set the learning rate and regularization strength. #\n",
    "# This should be identical to the validation that you did for the SVM; save    #\n",
    "# the best trained classifer in best_svm. You might also want to play          #\n",
    "# with different numbers of bins in the color histogram. If you are careful    #\n",
    "# you should be able to get accuracy of near 0.44 on the validation set.       #\n",
    "################################################################################\n",
    "for count in range(20):\n",
    "    lr = 10**uniform(-9,-7)\n",
    "    rs = 10**uniform(5,7)\n",
    "    print lr, rs\n",
    "    svm = LinearSVM()\n",
    "    svm.train(X_train_feats, y_train, learning_rate=lr, reg=rs,num_iters=500, verbose=True)\n",
    "\n",
    "    y_train_pred = svm.predict(X_train_feats)\n",
    "    train_ac = np.mean(y_train == y_train_pred)\n",
    "    print 'training accuracy: %f' % (train_ac, )\n",
    "\n",
    "    y_val_pred = svm.predict(X_val_feats)\n",
    "    val_ac = np.mean(y_val == y_val_pred)\n",
    "    print 'validation accuracy: %f' % (val_ac, )\n",
    "\n",
    "    if(val_ac > best_val):\n",
    "        best_val = val_ac\n",
    "        best_svm = svm\n",
    "\n",
    "    results[(lr,rs)] = (np.mean(y_train == y_train_pred), np.mean(y_val == y_val_pred))\n",
    "################################################################################\n",
    "#                              END OF YOUR CODE                                #\n",
    "################################################################################\n",
    "\n",
    "# Print out results.\n",
    "for lr, reg in sorted(results):\n",
    "    train_accuracy, val_accuracy = results[(lr, reg)]\n",
    "    print 'lr %e reg %e train accuracy: %f val accuracy: %f' % (\n",
    "                lr, reg, train_accuracy, val_accuracy)\n",
    "    \n",
    "print 'best validation accuracy achieved during cross-validation: %f' % best_val"
   ]
  },
  {
   "cell_type": "code",
   "execution_count": 7,
   "metadata": {
    "collapsed": false
   },
   "outputs": [
    {
     "name": "stdout",
     "output_type": "stream",
     "text": [
      "0.43\n"
     ]
    }
   ],
   "source": [
    "# Evaluate your trained SVM on the test set\n",
    "y_test_pred = best_svm.predict(X_test_feats)\n",
    "test_accuracy = np.mean(y_test == y_test_pred)\n",
    "print test_accuracy"
   ]
  },
  {
   "cell_type": "code",
   "execution_count": 11,
   "metadata": {
    "collapsed": false
   },
   "outputs": [
    {
     "data": {
      "image/png": "[encoded data removed]",
      "text/plain": [
       "<matplotlib.figure.Figure at 0x6dacee70>"
      ]
     },
     "metadata": {},
     "output_type": "display_data"
    }
   ],
   "source": [
    "# An important way to gain intuition about how an algorithm works is to\n",
    "# visualize the mistakes that it makes. In this visualization, we show examples\n",
    "# of images that are misclassified by our current system. The first column\n",
    "# shows images that our system labeled as \"plane\" but whose true label is\n",
    "# something other than \"plane\".\n",
    "\n",
    "examples_per_class = 1\n",
    "classes = ['plane', 'car', 'bird', 'cat', 'deer', 'dog', 'frog', 'horse', 'ship', 'truck']\n",
    "for cls, cls_name in enumerate(classes):\n",
    "    idxs = np.where((y_test != cls) & (y_test_pred == cls))[0]\n",
    "    idxs = np.random.choice(idxs, examples_per_class, replace=False)\n",
    "    for i, idx in enumerate(idxs):\n",
    "        plt.subplot(examples_per_class, len(classes), i * len(classes) + cls + 1)\n",
    "        plt.imshow(X_test[idx].astype('uint8'))\n",
    "        plt.axis('off')\n",
    "        if i == 0:\n",
    "            plt.title(cls_name)\n",
    "plt.show()"
   ]
  },
  {
   "cell_type": "markdown",
   "metadata": {},
   "source": [
    "### Inline question 1:\n",
    "Describe the misclassification results that you see. Do they make sense?"
   ]
  },
  {
   "cell_type": "markdown",
   "metadata": {},
   "source": [
    "## Neural Network on image features\n",
    "Earlier in this assigment we saw that training a two-layer neural network on raw pixels achieved better classification performance than linear classifiers on raw pixels. In this notebook we have seen that linear classifiers on image features outperform linear classifiers on raw pixels. \n",
    "\n",
    "For completeness, we should also try training a neural network on image features. This approach should outperform all previous approaches: you should easily be able to achieve over 55% classification accuracy on the test set; our best model achieves about 60% classification accuracy."
   ]
  },
  {
   "cell_type": "code",
   "execution_count": 12,
   "metadata": {
    "collapsed": false
   },
   "outputs": [
    {
     "name": "stdout",
     "output_type": "stream",
     "text": [
      "(4900, 155)\n"
     ]
    }
   ],
   "source": [
    "print X_train_feats.shape"
   ]
  },
  {
   "cell_type": "code",
   "execution_count": 30,
   "metadata": {
    "collapsed": false
   },
   "outputs": [
    {
     "name": "stdout",
     "output_type": "stream",
     "text": [
      "iteration 0 / 1000: loss 2.302627\n",
      "iteration 100 / 1000: loss 2.302616\n",
      "iteration 200 / 1000: loss 2.302415\n",
      "iteration 300 / 1000: loss 2.302368\n"
     ]
    },
    {
     "ename": "KeyboardInterrupt",
     "evalue": "",
     "output_type": "error",
     "traceback": [
      "\u001b[0;31m---------------------------------------------------------------------------\u001b[0m",
      "\u001b[0;31mKeyboardInterrupt\u001b[0m                         Traceback (most recent call last)",
      "\u001b[0;32m<ipython-input-30-23c73456aaf3>\u001b[0m in \u001b[0;36m<module>\u001b[0;34m()\u001b[0m\n\u001b[1;32m     17\u001b[0m             \u001b[0mnum_iters\u001b[0m\u001b[0;34m=\u001b[0m\u001b[0;36m1000\u001b[0m\u001b[0;34m,\u001b[0m \u001b[0mbatch_size\u001b[0m\u001b[0;34m=\u001b[0m\u001b[0;36m1000\u001b[0m\u001b[0;34m,\u001b[0m\u001b[0;34m\u001b[0m\u001b[0m\n\u001b[1;32m     18\u001b[0m             \u001b[0mlearning_rate\u001b[0m\u001b[0;34m=\u001b[0m\u001b[0;36m0.005\u001b[0m\u001b[0;34m,\u001b[0m \u001b[0mlearning_rate_decay\u001b[0m\u001b[0;34m=\u001b[0m\u001b[0;36m0.99\u001b[0m\u001b[0;34m,\u001b[0m\u001b[0;34m\u001b[0m\u001b[0m\n\u001b[0;32m---> 19\u001b[0;31m             reg=0.5, verbose=True)\n\u001b[0m\u001b[1;32m     20\u001b[0m \u001b[0mval_acc\u001b[0m \u001b[0;34m=\u001b[0m \u001b[0mnp\u001b[0m\u001b[0;34m.\u001b[0m\u001b[0mmean\u001b[0m\u001b[0;34m(\u001b[0m\u001b[0mnet\u001b[0m\u001b[0;34m.\u001b[0m\u001b[0mpredict\u001b[0m\u001b[0;34m(\u001b[0m\u001b[0mX_val_feats\u001b[0m\u001b[0;34m)\u001b[0m \u001b[0;34m==\u001b[0m \u001b[0my_val\u001b[0m\u001b[0;34m)\u001b[0m\u001b[0;34m\u001b[0m\u001b[0m\n\u001b[1;32m     21\u001b[0m \u001b[0;32mprint\u001b[0m \u001b[0;34m'Validation accuracy: '\u001b[0m\u001b[0;34m,\u001b[0m \u001b[0mval_acc\u001b[0m\u001b[0;34m\u001b[0m\u001b[0m\n",
      "\u001b[0;32m/ipython/1.cs231/assignment1/cs231n/classifiers/neural_net.pyc\u001b[0m in \u001b[0;36mtrain\u001b[0;34m(self, X, y, X_val, y_val, learning_rate, learning_rate_decay, reg, num_iters, batch_size, verbose)\u001b[0m\n\u001b[1;32m    210\u001b[0m \u001b[0;34m\u001b[0m\u001b[0m\n\u001b[1;32m    211\u001b[0m       \u001b[0;31m# Compute loss and gradients using the current minibatch\u001b[0m\u001b[0;34m\u001b[0m\u001b[0;34m\u001b[0m\u001b[0m\n\u001b[0;32m--> 212\u001b[0;31m       \u001b[0mloss\u001b[0m\u001b[0;34m,\u001b[0m \u001b[0mgrads\u001b[0m \u001b[0;34m=\u001b[0m \u001b[0mself\u001b[0m\u001b[0;34m.\u001b[0m\u001b[0mloss\u001b[0m\u001b[0;34m(\u001b[0m\u001b[0mX_batch\u001b[0m\u001b[0;34m,\u001b[0m \u001b[0my\u001b[0m\u001b[0;34m=\u001b[0m\u001b[0my_batch\u001b[0m\u001b[0;34m,\u001b[0m \u001b[0mreg\u001b[0m\u001b[0;34m=\u001b[0m\u001b[0mreg\u001b[0m\u001b[0;34m)\u001b[0m\u001b[0;34m\u001b[0m\u001b[0m\n\u001b[0m\u001b[1;32m    213\u001b[0m       \u001b[0mloss_history\u001b[0m\u001b[0;34m.\u001b[0m\u001b[0mappend\u001b[0m\u001b[0;34m(\u001b[0m\u001b[0mloss\u001b[0m\u001b[0;34m)\u001b[0m\u001b[0;34m\u001b[0m\u001b[0m\n\u001b[1;32m    214\u001b[0m \u001b[0;34m\u001b[0m\u001b[0m\n",
      "\u001b[0;32m/ipython/1.cs231/assignment1/cs231n/classifiers/neural_net.pyc\u001b[0m in \u001b[0;36mloss\u001b[0;34m(self, X, y, reg)\u001b[0m\n\u001b[1;32m    131\u001b[0m     \u001b[0;31m# 2. chain rule: d(loss)/d(W) = d(loss)/d(Wx) * d(Wx)/d(W) = d(loss)/d(Wx) * (x+1)\u001b[0m\u001b[0;34m\u001b[0m\u001b[0;34m\u001b[0m\u001b[0m\n\u001b[1;32m    132\u001b[0m     \u001b[0;31m# d(loss)/d(Wx) * x\u001b[0m\u001b[0;34m\u001b[0m\u001b[0;34m\u001b[0m\u001b[0m\n\u001b[0;32m--> 133\u001b[0;31m     \u001b[0mdW2\u001b[0m \u001b[0;34m=\u001b[0m \u001b[0mnp\u001b[0m\u001b[0;34m.\u001b[0m\u001b[0mdot\u001b[0m\u001b[0;34m(\u001b[0m\u001b[0mhidden_layer\u001b[0m\u001b[0;34m.\u001b[0m\u001b[0mT\u001b[0m\u001b[0;34m,\u001b[0m \u001b[0mdscores\u001b[0m\u001b[0;34m)\u001b[0m\u001b[0;34m\u001b[0m\u001b[0m\n\u001b[0m\u001b[1;32m    134\u001b[0m     \u001b[0;31m# d(loss)/d(Wx) * 1 , for b term, therefore simply sum up dscores accross N data\u001b[0m\u001b[0;34m\u001b[0m\u001b[0;34m\u001b[0m\u001b[0m\n\u001b[1;32m    135\u001b[0m     \u001b[0mdb2\u001b[0m \u001b[0;34m=\u001b[0m \u001b[0mnp\u001b[0m\u001b[0;34m.\u001b[0m\u001b[0msum\u001b[0m\u001b[0;34m(\u001b[0m\u001b[0mdscores\u001b[0m\u001b[0;34m,\u001b[0m \u001b[0maxis\u001b[0m\u001b[0;34m=\u001b[0m\u001b[0;36m0\u001b[0m\u001b[0;34m,\u001b[0m \u001b[0mkeepdims\u001b[0m\u001b[0;34m=\u001b[0m\u001b[0mTrue\u001b[0m\u001b[0;34m)\u001b[0m\u001b[0;34m\u001b[0m\u001b[0m\n",
      "\u001b[0;31mKeyboardInterrupt\u001b[0m: "
     ]
    }
   ],
   "source": [
    "from cs231n.classifiers.neural_net import TwoLayerNet\n",
    "\n",
    "input_dim = X_train_feats.shape[1]\n",
    "hidden_dim = 100\n",
    "num_classes = 10\n",
    "\n",
    "net = TwoLayerNet(input_dim, hidden_dim, num_classes)\n",
    "best_net = None\n",
    "\n",
    "################################################################################\n",
    "# TODO: Train a two-layer neural network on image features. You may want to    #\n",
    "# cross-validate various parameters as in previous sections. Store your best   #\n",
    "# model in the best_net variable.                                              #\n",
    "################################################################################\n",
    "# Train the network\n",
    "stats = net.train(X_train_feats, y_train, X_val_feats, y_val,\n",
    "            num_iters=1000, batch_size=1000,\n",
    "            learning_rate=0.005, learning_rate_decay=0.99,\n",
    "            reg=0.5, verbose=True)\n",
    "val_acc = np.mean(net.predict(X_val_feats) == y_val)\n",
    "print 'Validation accuracy: ', val_acc\n",
    "################################################################################\n",
    "#                              END OF YOUR CODE                                #\n",
    "################################################################################"
   ]
  },
  {
   "cell_type": "code",
   "execution_count": null,
   "metadata": {
    "collapsed": false
   },
   "outputs": [],
   "source": [
    "# Run your neural net classifier on the test set. You should be able to\n",
    "# get more than 55% accuracy.\n",
    "\n",
    "test_acc = (net.predict(X_test_feats) == y_test).mean()\n",
    "print test_acc"
   ]
  },
  {
   "cell_type": "markdown",
   "metadata": {},
   "source": [
    "# Bonus: Design your own features!\n",
    "\n",
    "You have seen that simple image features can improve classification performance. So far we have tried HOG and color histograms, but other types of features may be able to achieve even better classification performance.\n",
    "\n",
    "For bonus points, design and implement a new type of feature and use it for image classification on CIFAR-10. Explain how your feature works and why you expect it to be useful for image classification. Implement it in this notebook, cross-validate any hyperparameters, and compare its performance to the HOG + Color histogram baseline."
   ]
  },
  {
   "cell_type": "markdown",
   "metadata": {},
   "source": [
    "# Bonus: Do something extra!\n",
    "Use the material and code we have presented in this assignment to do something interesting. Was there another question we should have asked? Did any cool ideas pop into your head as you were working on the assignment? This is your chance to show off!"
   ]
  }
 ],
 "metadata": {
  "kernelspec": {
   "display_name": "Python 2",
   "language": "python",
   "name": "python2"
  },
  "language_info": {
   "codemirror_mode": {
    "name": "ipython",
    "version": 2
   },
   "file_extension": ".py",
   "mimetype": "text/x-python",
   "name": "python",
   "nbconvert_exporter": "python",
   "pygments_lexer": "ipython2",
   "version": "2.7.9"
  }
 },
 "nbformat": 4,
 "nbformat_minor": 0
}

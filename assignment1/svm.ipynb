{
 "cells": [
  {
   "cell_type": "markdown",
   "metadata": {},
   "source": [
    "# Multiclass Support Vector Machine exercise\n",
    "\n",
    "*Complete and hand in this completed worksheet (including its outputs and any supporting code outside of the worksheet) with your assignment submission. For more details see the [assignments page](http://vision.stanford.edu/teaching/cs231n/assignments.html) on the course website.*\n",
    "\n",
    "In this exercise you will:\n",
    "    \n",
    "- implement a fully-vectorized **loss function** for the SVM\n",
    "- implement the fully-vectorized expression for its **analytic gradient**\n",
    "- **check your implementation** using numerical gradient\n",
    "- use a validation set to **tune the learning rate and regularization** strength\n",
    "- **optimize** the loss function with **SGD**\n",
    "- **visualize** the final learned weights\n"
   ]
  },
  {
   "cell_type": "code",
   "execution_count": 2,
   "metadata": {
    "collapsed": false
   },
   "outputs": [],
   "source": [
    "# Run some setup code for this notebook.\n",
    "\n",
    "import random\n",
    "import numpy as np\n",
    "from cs231n.data_utils import load_CIFAR10\n",
    "import matplotlib.pyplot as plt\n",
    "import pickle\n",
    "from pprint import pprint as pp\n",
    "\n",
    "# This is a bit of magic to make matplotlib figures appear inline in the\n",
    "# notebook rather than in a new window.\n",
    "%matplotlib inline\n",
    "plt.rcParams['figure.figsize'] = (10.0, 8.0) # set default size of plots\n",
    "plt.rcParams['image.interpolation'] = 'nearest'\n",
    "plt.rcParams['image.cmap'] = 'gray'\n",
    "\n",
    "# Some more magic so that the notebook will reload external python modules;\n",
    "# see http://stackoverflow.com/questions/1907993/autoreload-of-modules-in-ipython\n",
    "%load_ext autoreload\n",
    "%autoreload 2"
   ]
  },
  {
   "cell_type": "markdown",
   "metadata": {},
   "source": [
    "## CIFAR-10 Data Loading and Preprocessing"
   ]
  },
  {
   "cell_type": "code",
   "execution_count": 3,
   "metadata": {
    "collapsed": true
   },
   "outputs": [],
   "source": [
    "# Load the raw CIFAR-10 data.\n",
    "# cifar10_dir = 'cs231n/datasets/cifar-10-batches-py'\n",
    "# X_train, y_train, X_test, y_test = load_CIFAR10(cifar10_dir)\n",
    "\n",
    "X_train_5000 = pickle.load(open(\"X_train_5000\", \"rb\"))\n",
    "y_train_5000 = pickle.load(open(\"y_train_5000\", \"rb\"))\n",
    "X_test_500 = pickle.load(open(\"X_test_500\", \"rb\"))\n",
    "y_test_500 = pickle.load(open(\"y_test_500\", \"rb\"))"
   ]
  },
  {
   "cell_type": "code",
   "execution_count": 4,
   "metadata": {
    "collapsed": false
   },
   "outputs": [
    {
     "name": "stdout",
     "output_type": "stream",
     "text": [
      "Training data shape:  (5000, 32, 32, 3)\n",
      "Training labels shape:  (5000,)\n",
      "Test data shape:  (500, 32, 32, 3)\n",
      "Test labels shape:  (500,)\n"
     ]
    }
   ],
   "source": [
    "num_training = 5000\n",
    "mask = range(num_training)\n",
    "X_train = X_train_5000[mask]\n",
    "y_train = y_train_5000[mask]\n",
    "\n",
    "num_test = 500\n",
    "mask = range(num_test)\n",
    "X_test = X_test_500[mask]\n",
    "y_test = y_test_500[mask]\n",
    "\n",
    "# As a sanity check, we print out the size of the training and test data.\n",
    "print 'Training data shape: ', X_train.shape\n",
    "print 'Training labels shape: ', y_train.shape\n",
    "print 'Test data shape: ', X_test.shape\n",
    "print 'Test labels shape: ', y_test.shape"
   ]
  },
  {
   "cell_type": "code",
   "execution_count": null,
   "metadata": {
    "collapsed": false
   },
   "outputs": [],
   "source": [
    "# Visualize some examples from the dataset.\n",
    "# We show a few examples of training images from each class.\n",
    "classes = ['plane', 'car', 'bird', 'cat', 'deer', 'dog', 'frog', 'horse', 'ship', 'truck']\n",
    "num_classes = len(classes)\n",
    "samples_per_class = 7\n",
    "for y, cls in enumerate(classes):\n",
    "    idxs = np.flatnonzero(y_train == y)\n",
    "    idxs = np.random.choice(idxs, samples_per_class, replace=False)\n",
    "    for i, idx in enumerate(idxs):\n",
    "        plt_idx = i * num_classes + y + 1\n",
    "        plt.subplot(samples_per_class, num_classes, plt_idx)\n",
    "        plt.imshow(X_train[idx].astype('uint8'))\n",
    "        plt.axis('off')\n",
    "        if i == 0:\n",
    "            plt.title(cls)\n",
    "plt.show()"
   ]
  },
  {
   "cell_type": "code",
   "execution_count": 5,
   "metadata": {
    "collapsed": false
   },
   "outputs": [
    {
     "name": "stdout",
     "output_type": "stream",
     "text": [
      "Train data shape:  (4900, 32, 32, 3)\n",
      "Train labels shape:  (4900,)\n",
      "Validation data shape:  (100, 32, 32, 3)\n",
      "Validation labels shape:  (100,)\n",
      "Test data shape:  (100, 32, 32, 3)\n",
      "Test labels shape:  (100,)\n"
     ]
    }
   ],
   "source": [
    "# Split the data into train, val, and test sets. In addition we will\n",
    "# create a small development set as a subset of the training data;\n",
    "# we can use this for development so our code runs faster.\n",
    "\n",
    "# num_training = 49000\n",
    "# num_validation = 1000\n",
    "# num_test = 1000\n",
    "# num_dev = 500\n",
    "\n",
    "num_training = 4900\n",
    "num_validation = 100\n",
    "num_test = 100\n",
    "num_dev = 5\n",
    "\n",
    "# Our validation set will be num_validation points from the original\n",
    "# training set.\n",
    "mask = range(num_training, num_training + num_validation)\n",
    "X_val = X_train[mask]\n",
    "y_val = y_train[mask]\n",
    "\n",
    "# Our training set will be the first num_train points from the original\n",
    "# training set.\n",
    "mask = range(num_training)\n",
    "X_train = X_train[mask]\n",
    "y_train = y_train[mask]\n",
    "\n",
    "# We will also make a development set, which is a small subset of\n",
    "# the training set.\n",
    "mask = np.random.choice(num_training, num_dev, replace=False)\n",
    "X_dev = X_train[mask]\n",
    "y_dev = y_train[mask]\n",
    "\n",
    "# We use the first num_test points of the original test set as our\n",
    "# test set.\n",
    "mask = range(num_test)\n",
    "X_test = X_test[mask]\n",
    "y_test = y_test[mask]\n",
    "\n",
    "print 'Train data shape: ', X_train.shape\n",
    "print 'Train labels shape: ', y_train.shape\n",
    "print 'Validation data shape: ', X_val.shape\n",
    "print 'Validation labels shape: ', y_val.shape\n",
    "print 'Test data shape: ', X_test.shape\n",
    "print 'Test labels shape: ', y_test.shape"
   ]
  },
  {
   "cell_type": "code",
   "execution_count": 6,
   "metadata": {
    "collapsed": false
   },
   "outputs": [
    {
     "name": "stdout",
     "output_type": "stream",
     "text": [
      "Training data shape:  (4900, 3072)\n",
      "Validation data shape:  (100, 3072)\n",
      "Test data shape:  (100, 3072)\n",
      "dev data shape:  (5, 3072)\n"
     ]
    }
   ],
   "source": [
    "# Preprocessing: reshape the image data into rows\n",
    "X_train = np.reshape(X_train, (X_train.shape[0], -1))\n",
    "X_val = np.reshape(X_val, (X_val.shape[0], -1))\n",
    "X_test = np.reshape(X_test, (X_test.shape[0], -1))\n",
    "X_dev = np.reshape(X_dev, (X_dev.shape[0], -1))\n",
    "\n",
    "# As a sanity check, print out the shapes of the data\n",
    "print 'Training data shape: ', X_train.shape\n",
    "print 'Validation data shape: ', X_val.shape\n",
    "print 'Test data shape: ', X_test.shape\n",
    "print 'dev data shape: ', X_dev.shape"
   ]
  },
  {
   "cell_type": "code",
   "execution_count": 7,
   "metadata": {
    "collapsed": false
   },
   "outputs": [
    {
     "name": "stdout",
     "output_type": "stream",
     "text": [
      "[ 131.39897959  136.3122449   132.67163265  130.74959184  135.70265306\n",
      "  132.03673469  131.63612245  136.45979592  132.66346939  132.68367347]\n"
     ]
    }
   ],
   "source": [
    "# Preprocessing: subtract the mean image\n",
    "# first: compute the image mean based on the training data\n",
    "mean_image = np.mean(X_train, axis=0)\n",
    "print mean_image[:10] # print a few of the elements\n",
    "# plt.figure(figsize=(2,2))\n",
    "# plt.imshow(mean_image.reshape((32,32,3)).astype('uint8')) # visualize the mean image\n",
    "# plt.show()"
   ]
  },
  {
   "cell_type": "code",
   "execution_count": 8,
   "metadata": {
    "collapsed": false
   },
   "outputs": [],
   "source": [
    "# second: subtract the mean image from train and test data\n",
    "X_train -= mean_image\n",
    "X_val -= mean_image\n",
    "X_test -= mean_image\n",
    "X_dev -= mean_image"
   ]
  },
  {
   "cell_type": "code",
   "execution_count": 9,
   "metadata": {
    "collapsed": false
   },
   "outputs": [
    {
     "name": "stdout",
     "output_type": "stream",
     "text": [
      "(4900, 3073) (100, 3073) (100, 3073) (5, 3073)\n"
     ]
    }
   ],
   "source": [
    "# third: append the bias dimension of ones (i.e. bias trick) so that our SVM\n",
    "# only has to worry about optimizing a single weight matrix W.\n",
    "X_train = np.hstack([X_train, np.ones((X_train.shape[0], 1))])\n",
    "X_val = np.hstack([X_val, np.ones((X_val.shape[0], 1))])\n",
    "X_test = np.hstack([X_test, np.ones((X_test.shape[0], 1))])\n",
    "X_dev = np.hstack([X_dev, np.ones((X_dev.shape[0], 1))])\n",
    "\n",
    "print X_train.shape, X_val.shape, X_test.shape, X_dev.shape"
   ]
  },
  {
   "cell_type": "markdown",
   "metadata": {},
   "source": [
    "## SVM Classifier\n",
    "\n",
    "Your code for this section will all be written inside **cs231n/classifiers/linear_svm.py**. \n",
    "\n",
    "As you can see, we have prefilled the function `compute_loss_naive` which uses for loops to evaluate the multiclass SVM loss function. "
   ]
  },
  {
   "cell_type": "code",
   "execution_count": 12,
   "metadata": {
    "collapsed": false
   },
   "outputs": [
    {
     "data": {
      "text/plain": [
       "'\\nStructured SVM loss function, naive implementation (with loops).\\n\\nInputs have dimension D, there are C classes, and we operate on minibatches\\nof N examples.\\n\\nInputs:\\n- W: A numpy array of shape (D, C) containing weights.\\n- X: A numpy array of shape (N, D) containing a minibatch of data.\\n- y: A numpy array of shape (N,) containing training labels; y[i] = c means\\n  that X[i] has label c, where 0 <= c < C.\\n- reg: (float) regularization strength\\n\\nReturns a tuple of:\\n- loss as single float\\n- gradient with respect to weights W; an array of same shape as W\\n'"
      ]
     },
     "execution_count": 12,
     "metadata": {},
     "output_type": "execute_result"
    }
   ],
   "source": [
    "  \"\"\"\n",
    "  Structured SVM loss function, naive implementation (with loops).\n",
    "\n",
    "  Inputs have dimension D, there are C classes, and we operate on minibatches\n",
    "  of N examples.\n",
    "\n",
    "  Inputs:\n",
    "  - W: A numpy array of shape (D, C) containing weights.\n",
    "  - X: A numpy array of shape (N, D) containing a minibatch of data.\n",
    "  - y: A numpy array of shape (N,) containing training labels; y[i] = c means\n",
    "    that X[i] has label c, where 0 <= c < C.\n",
    "  - reg: (float) regularization strength\n",
    "\n",
    "  Returns a tuple of:\n",
    "  - loss as single float\n",
    "  - gradient with respect to weights W; an array of same shape as W\n",
    "  \"\"\""
   ]
  },
  {
   "cell_type": "markdown",
   "metadata": {},
   "source": [
    "The SVM loss is set up so that the SVM “wants” the correct class for each image to a have a score higher than the incorrect classes by some fixed margin $\\Delta$\n",
    "$L_i = \\sum_{j\\neq y_i} \\max(0, w_j^T x_i - w_{y_i}^T x_i + \\Delta)$ where $x_i$ is labeled as $y_i$,\n",
    "<br /> $x_i$: means ith image, \n",
    "<br /> $w_j$: means jth class model weight,\n",
    "<br /> $y_i$ means the label of $x_i$,\n",
    "<br /> $x_i$, $w_j$ are a vector in the equation.\n",
    "<br />\n",
    "$w_j^T x_i ({j\\neq y_i})$ : the score of label = 0 (wrong class score)\n",
    "<br />\n",
    "$w_{y_i}^T x_i $ : the score of label = 1 (correct class score)\n",
    "<br /><br />\n",
    "Define a loss function that quantifies our \"unhappiness\" with the scores \"across\" the training data.\n",
    "<br />\n",
    "ps: This is the multi-classify SVM, **we compare the right prediction score across all wrong prediction scores**,\n",
    "<br /><br />\n",
    "if right prediction has highest score: means this pic is happer with the model, (predict wrong score - predict correct score < 0) then loss = 0 (filter into 0)\n",
    "<br />\n",
    "if wrong prediction score is higher than right prediction score, means this pic is unhapper with the model, (predict wrong score - predict correct score < 0) then loss < 0\n",
    "<br /><br />\n",
    "the multi-classify SVM loss add up all the loss value across different classes, then object is to maximize this loss value to make all data less unhappy to this multi-classify SVM.\n",
    "\n",
    "<--img src=\"SVM_example.png\"-->"
   ]
  },
  {
   "cell_type": "markdown",
   "metadata": {},
   "source": [
    "this is the gradient only with respect to the row of WW that corresponds to the correct class\n",
    "<br/> $\\nabla_{w_{y_i}} L_i = - \\left( \\sum_{j\\neq y_i} \\mathbb{1}(w_j^Tx_i - w_{y_i}^Tx_i + \\Delta > 0) \\right) x_i$\n",
    "<br/> For the other rows where $j\\neq y_i$ the gradient\n",
    "<br/> $\\nabla_{w_j} L_i = \\mathbb{1}(w_j^Tx_i - w_{y_i}^Tx_i + \\Delta > 0) x_i$\n",
    "<br/> - $1$ is the indicator function that is one if the condition inside is true or zero otherwise. \n",
    "<br/> - you’d simply count the number of classes that didn’t meet the desired margin (and hence contributed to the loss function) and then the data vector $x_i$ scaled by this number is the gradient."
   ]
  },
  {
   "cell_type": "code",
   "execution_count": 15,
   "metadata": {
    "collapsed": false,
    "scrolled": false
   },
   "outputs": [
    {
     "name": "stdout",
     "output_type": "stream",
     "text": [
      "loss: 10.279916\n"
     ]
    }
   ],
   "source": [
    "# Evaluate the naive implementation of the loss we provided for you:\n",
    "from cs231n.classifiers.linear_svm import svm_loss_naive\n",
    "import time\n",
    "\n",
    "# generate a random SVM weight matrix of small numbers\n",
    "W = np.random.randn(3073, 10) * 0.0001 \n",
    "\n",
    "loss, grad = svm_loss_naive(W, X_dev, y_dev, 0.00001)\n",
    "print 'loss: %f' % (loss, )"
   ]
  },
  {
   "cell_type": "markdown",
   "metadata": {},
   "source": [
    "The `grad` returned from the function above is right now all zero. Derive and implement the gradient for the SVM cost function and implement it inline inside the function `svm_loss_naive`. You will find it helpful to interleave your new code inside the existing function.\n",
    "\n",
    "To check that you have correctly implemented the gradient correctly, you can numerically estimate the gradient of the loss function and compare the numeric estimate to the gradient that you computed. We have provided code that does this for you:"
   ]
  },
  {
   "cell_type": "code",
   "execution_count": 93,
   "metadata": {
    "collapsed": false
   },
   "outputs": [
    {
     "name": "stdout",
     "output_type": "stream",
     "text": [
      "numerical: 38.992449 analytic: 38.992449, relative error: 1.343004e-13\n",
      "numerical: -26.345918 analytic: -26.345918, relative error: 3.489211e-13\n",
      "numerical: 0.279020 analytic: 0.279020, relative error: 9.262353e-11\n",
      "numerical: 12.758367 analytic: 12.758367, relative error: 2.866204e-12\n",
      "numerical: 3.243878 analytic: 3.243878, relative error: 6.467327e-12\n",
      "numerical: -167.678694 analytic: -167.678694, relative error: 5.941011e-14\n",
      "numerical: 7.985102 analytic: 7.985102, relative error: 8.933392e-13\n",
      "numerical: 12.157959 analytic: 12.157959, relative error: 1.621855e-12\n",
      "numerical: 92.655184 analytic: 92.655184, relative error: 2.615786e-13\n",
      "numerical: -136.482939 analytic: -136.482939, relative error: 1.468118e-14\n",
      "numerical: -122.671562 analytic: -122.671562, relative error: 1.019434e-14\n",
      "numerical: -2.492299 analytic: -2.492299, relative error: 1.651415e-12\n",
      "numerical: -104.681573 analytic: -104.681573, relative error: 6.088529e-14\n",
      "numerical: -140.784374 analytic: -140.784374, relative error: 4.042670e-13\n",
      "numerical: 2.906230 analytic: 2.906230, relative error: 1.019208e-11\n",
      "numerical: -50.018551 analytic: -50.018551, relative error: 1.285818e-12\n",
      "numerical: -22.403783 analytic: -22.403783, relative error: 1.469449e-12\n",
      "numerical: -153.740792 analytic: -153.740792, relative error: 1.442893e-13\n",
      "numerical: -15.175112 analytic: -15.175112, relative error: 1.715650e-12\n",
      "numerical: 17.904198 analytic: 17.904198, relative error: 7.568085e-13\n"
     ]
    }
   ],
   "source": [
    "# Once you've implemented the gradient, recompute it with the code below\n",
    "# and gradient check it with the function we provided for you\n",
    "\n",
    "# Compute the loss and its gradient at W.\n",
    "loss, grad = svm_loss_naive(W, X_dev, y_dev, 0.0)\n",
    "\n",
    "# Numerically compute the gradient along several randomly chosen dimensions, and\n",
    "# compare them with your analytically computed gradient. The numbers should match\n",
    "# almost exactly along all dimensions.\n",
    "from cs231n.gradient_check import grad_check_sparse\n",
    "f = lambda w: svm_loss_naive(w, X_dev, y_dev, 0.0)[0]\n",
    "grad_numerical = grad_check_sparse(f, W, grad)\n",
    "\n",
    "# do the gradient check once again with regularization turned on\n",
    "# you didn't forget the regularization gradient did you?\n",
    "loss, grad = svm_loss_naive(W, X_dev, y_dev, 1e2)\n",
    "f = lambda w: svm_loss_naive(w, X_dev, y_dev, 1e2)[0]\n",
    "grad_numerical = grad_check_sparse(f, W, grad)"
   ]
  },
  {
   "cell_type": "markdown",
   "metadata": {},
   "source": [
    "### Inline Question 1:\n",
    "It is possible that once in a while a dimension in the gradcheck will not match exactly. What could such a discrepancy be caused by? Is it a reason for concern? What is a simple example in one dimension where a gradient check could fail? *Hint: the SVM loss function is not strictly speaking differentiable*\n",
    "\n",
    "**Your Answer:** *fill this in.*"
   ]
  },
  {
   "cell_type": "code",
   "execution_count": 16,
   "metadata": {
    "collapsed": false
   },
   "outputs": [
    {
     "name": "stdout",
     "output_type": "stream",
     "text": [
      "Naive loss: 1.027992e+01 computed in 0.011736s\n",
      "Vectorized loss: 1.027992e+01 computed in 0.985785s\n",
      "difference: -0.000000\n"
     ]
    }
   ],
   "source": [
    "# Next implement the function svm_loss_vectorized; for now only compute the loss;\n",
    "# we will implement the gradient in a moment.\n",
    "tic = time.time()\n",
    "loss_naive, grad_naive = svm_loss_naive(W, X_dev, y_dev, 0.00001)\n",
    "toc = time.time()\n",
    "print 'Naive loss: %e computed in %fs' % (loss_naive, toc - tic)\n",
    "\n",
    "from cs231n.classifiers.linear_svm import svm_loss_vectorized\n",
    "tic = time.time()\n",
    "loss_vectorized, _ = svm_loss_vectorized(W, X_dev, y_dev, 0.00001)\n",
    "toc = time.time()\n",
    "print 'Vectorized loss: %e computed in %fs' % (loss_vectorized, toc - tic)\n",
    "\n",
    "# The losses should match but your vectorized implementation should be much faster.\n",
    "print 'difference: %f' % (loss_naive - loss_vectorized)"
   ]
  },
  {
   "cell_type": "code",
   "execution_count": 17,
   "metadata": {
    "collapsed": false
   },
   "outputs": [
    {
     "name": "stdout",
     "output_type": "stream",
     "text": [
      "Naive loss and gradient: computed in 0.011858s\n",
      "Vectorized loss and gradient: computed in 0.008966s\n",
      "difference: 0.000000\n"
     ]
    }
   ],
   "source": [
    "# Complete the implementation of svm_loss_vectorized, and compute the gradient\n",
    "# of the loss function in a vectorized way.\n",
    "\n",
    "# The naive implementation and the vectorized implementation should match, but\n",
    "# the vectorized version should still be much faster.\n",
    "tic = time.time()\n",
    "\n",
    "_, grad_naive = svm_loss_naive(W, X_dev, y_dev, 0.00001)\n",
    "toc = time.time()\n",
    "print 'Naive loss and gradient: computed in %fs' % (toc - tic)\n",
    "\n",
    "tic = time.time()\n",
    "_, grad_vectorized = svm_loss_vectorized(W, X_dev, y_dev, 0.00001)\n",
    "toc = time.time()\n",
    "print 'Vectorized loss and gradient: computed in %fs' % (toc - tic)\n",
    "\n",
    "# The loss is a single number, so it is easy to compare the values computed\n",
    "# by the two implementations. The gradient on the other hand is a matrix, so\n",
    "# we use the Frobenius norm to compare them.\n",
    "difference = np.linalg.norm(grad_naive - grad_vectorized, ord='fro')\n",
    "print 'difference: %f' % difference"
   ]
  },
  {
   "cell_type": "markdown",
   "metadata": {},
   "source": [
    "### Stochastic Gradient Descent\n",
    "\n",
    "We now have vectorized and efficient expressions for the loss, the gradient and our gradient matches the numerical gradient. We are therefore ready to do SGD to minimize the loss."
   ]
  },
  {
   "cell_type": "code",
   "execution_count": 19,
   "metadata": {
    "collapsed": false
   },
   "outputs": [
    {
     "name": "stdout",
     "output_type": "stream",
     "text": [
      "iteration 0 / 1500: loss 793.703161\n",
      "iteration 100 / 1500: loss 288.783137\n",
      "iteration 200 / 1500: loss 108.623285\n",
      "iteration 300 / 1500: loss 42.810876\n",
      "iteration 400 / 1500: loss 18.886833\n",
      "iteration 500 / 1500: loss 9.920820\n",
      "iteration 600 / 1500: loss 6.808303\n",
      "iteration 700 / 1500: loss 5.132551\n",
      "iteration 800 / 1500: loss 5.289783\n",
      "iteration 900 / 1500: loss 4.974679\n",
      "iteration 1000 / 1500: loss 4.644925\n",
      "iteration 1100 / 1500: loss 5.183375\n",
      "iteration 1200 / 1500: loss 5.074583\n",
      "iteration 1300 / 1500: loss 5.089440\n",
      "iteration 1400 / 1500: loss 4.386833\n",
      "That took 183.176977s\n"
     ]
    }
   ],
   "source": [
    "# In the file linear_classifier.py, implement SGD in the function\n",
    "# LinearClassifier.train() and then run it with the code below.\n",
    "from cs231n.classifiers import LinearSVM\n",
    "svm = LinearSVM()\n",
    "tic = time.time()\n",
    "loss_hist = svm.train(X_train, y_train, learning_rate=1e-7, reg=5e4,\n",
    "                      num_iters=1500, verbose=True)\n",
    "\n",
    "toc = time.time()\n",
    "print 'That took %fs' % (toc - tic)"
   ]
  },
  {
   "cell_type": "code",
   "execution_count": null,
   "metadata": {
    "collapsed": false,
    "scrolled": true
   },
   "outputs": [],
   "source": [
    "# A useful debugging strategy is to plot the loss as a function of\n",
    "# iteration number:\n",
    "plt.plot(loss_hist)\n",
    "plt.xlabel('Iteration number')\n",
    "plt.ylabel('Loss value')\n",
    "plt.show()"
   ]
  },
  {
   "cell_type": "code",
   "execution_count": 20,
   "metadata": {
    "collapsed": false
   },
   "outputs": [
    {
     "name": "stdout",
     "output_type": "stream",
     "text": [
      "training accuracy: 0.408163\n",
      "validation accuracy: 0.360000\n"
     ]
    }
   ],
   "source": [
    "# Write the LinearSVM.predict function and evaluate the performance on both the\n",
    "# training and validation set\n",
    "y_train_pred = svm.predict(X_train)\n",
    "print 'training accuracy: %f' % (np.mean(y_train == y_train_pred), )\n",
    "y_val_pred = svm.predict(X_val)\n",
    "print 'validation accuracy: %f' % (np.mean(y_val == y_val_pred), )"
   ]
  },
  {
   "cell_type": "code",
   "execution_count": 25,
   "metadata": {
    "collapsed": false,
    "scrolled": false
   },
   "outputs": [
    {
     "name": "stdout",
     "output_type": "stream",
     "text": [
      "1.00056973034e-06 152217.737198\n",
      "iteration 0 / 500: loss 2383.050601\n",
      "iteration 100 / 500: loss 6.804151\n",
      "iteration 200 / 500: loss 8.412474\n",
      "iteration 300 / 500: loss 7.074298\n",
      "iteration 400 / 500: loss 6.917116\n",
      "training accuracy: 0.258367\n",
      "validation accuracy: 0.180000\n",
      "1.02953752819e-06 227300.183008\n",
      "iteration 0 / 500: loss 3495.327074\n",
      "iteration 100 / 500: loss 8.951728\n",
      "iteration 200 / 500: loss 9.253348\n",
      "iteration 300 / 500: loss 7.516224\n",
      "iteration 400 / 500: loss 7.851966\n",
      "training accuracy: 0.244898\n",
      "validation accuracy: 0.190000\n",
      "6.70712066814e-07 185097.845348\n",
      "iteration 0 / 500: loss 2869.552437\n",
      "iteration 100 / 500: loss 6.476716\n",
      "iteration 200 / 500: loss 6.754436\n",
      "iteration 300 / 500: loss 6.661729\n",
      "iteration 400 / 500: loss 5.815179\n",
      "training accuracy: 0.281837\n",
      "validation accuracy: 0.290000\n",
      "4.92397802789e-06 62811.9889768\n",
      "iteration 0 / 500: loss 990.708501\n",
      "iteration 100 / 500: loss 28.684622\n",
      "iteration 200 / 500: loss 23.960753\n",
      "iteration 300 / 500: loss 19.491248\n",
      "iteration 400 / 500: loss 24.530407\n",
      "training accuracy: 0.171429\n",
      "validation accuracy: 0.200000\n",
      "3.00944729834e-07 36540.1729194\n",
      "iteration 0 / 500: loss 588.934727\n",
      "iteration 100 / 500: loss 65.694246\n",
      "iteration 200 / 500: loss 11.291894\n",
      "iteration 300 / 500: loss 5.222711\n",
      "iteration 400 / 500: loss 4.778102\n",
      "training accuracy: 0.401224\n",
      "validation accuracy: 0.290000\n",
      "7.40141771229e-07 274716.615732\n",
      "iteration 0 / 500: loss 4223.676268\n",
      "iteration 100 / 500: loss 7.361281\n",
      "iteration 200 / 500: loss 7.039886\n",
      "iteration 300 / 500: loss 6.821711\n",
      "iteration 400 / 500: loss 7.002518\n",
      "training accuracy: 0.291429\n",
      "validation accuracy: 0.330000\n",
      "5.95792118423e-06 128218.424457\n",
      "iteration 0 / 500: loss 2024.152199\n",
      "iteration 100 / 500: loss 57.710917\n",
      "iteration 200 / 500: loss 50.551745\n",
      "iteration 300 / 500: loss 55.971239\n",
      "iteration 400 / 500: loss 49.028308\n",
      "training accuracy: 0.188367\n",
      "validation accuracy: 0.130000\n",
      "4.20311453865e-07 14598.9081992\n",
      "iteration 0 / 500: loss 247.447128\n",
      "iteration 100 / 500: loss 69.662485\n",
      "iteration 200 / 500: loss 23.592341\n",
      "iteration 300 / 500: loss 9.751202\n",
      "iteration 400 / 500: loss 6.130698\n",
      "training accuracy: 0.425918\n",
      "validation accuracy: 0.310000\n",
      "1.18155640013e-07 12874.0111207\n",
      "iteration 0 / 500: loss 220.637069\n",
      "iteration 100 / 500: loss 153.568604\n",
      "iteration 200 / 500: loss 112.673627\n",
      "iteration 300 / 500: loss 84.440417\n",
      "iteration 400 / 500: loss 63.846431\n",
      "training accuracy: 0.333265\n",
      "validation accuracy: 0.300000\n",
      "5.28844316191e-06 403305.963447\n",
      "iteration 0 / 500: loss 6297.631444\n",
      "iteration 100 / 500: loss 590294675975870.625000\n",
      "iteration 200 / 500: loss 40398865346140906838818816.000000\n",
      "iteration 300 / 500: loss 2764831344476337059924236355319627776.000000\n",
      "iteration 400 / 500: loss 189220471858460281909524360538505195148403539968.000000\n",
      "training accuracy: 0.085510\n",
      "validation accuracy: 0.130000\n",
      "3.40919694867e-06 790180.343638\n",
      "iteration 0 / 500: loss 12185.609533\n",
      "iteration 100 / 500: loss 73385142652668835436757273597451721575646474797056.000000\n",
      "iteration 200 / 500: loss 438689808455630020687987552701140816972362101807219859461839725821762181168172738531664448192512.000000\n",
      "iteration 300 / 500: loss 2622448374239665855728560656498643887677192294359794359820814259378614259347209493579630264855275930038616590239556630998336049330149992169472.000000\n",
      "iteration 400 / 500: loss 15676761445092571754383698078663888969125291917988843714504446655448227970099463460065498538246726379228285285536449322101875227706039931571851259948126205426925571136191985151487600754688.000000\n",
      "training accuracy: 0.077551\n",
      "validation accuracy: 0.080000\n",
      "3.26463961712e-07 111418.880176\n",
      "iteration 0 / 500: loss 1727.710531\n",
      "iteration 100 / 500: loss 6.705208\n",
      "iteration 200 / 500: loss 5.798678\n",
      "iteration 300 / 500: loss 5.631777\n",
      "iteration 400 / 500: loss 5.357793\n",
      "training accuracy: 0.341633\n",
      "validation accuracy: 0.280000\n",
      "2.73755126392e-07 722878.512357\n",
      "iteration 0 / 500: loss 11079.531192\n",
      "iteration 100 / 500: loss 7.137976\n",
      "iteration 200 / 500: loss 7.376119\n",
      "iteration 300 / 500: loss 6.772782\n",
      "iteration 400 / 500: loss 6.924797\n",
      "training accuracy: 0.295510\n",
      "validation accuracy: 0.290000\n",
      "1.38803594965e-06 131883.043087\n",
      "iteration 0 / 500: loss 2017.642504\n",
      "iteration 100 / 500: loss 10.114285\n",
      "iteration 200 / 500: loss 8.924560\n",
      "iteration 300 / 500: loss 9.869139\n",
      "iteration 400 / 500: loss 9.734130\n",
      "training accuracy: 0.237551\n",
      "validation accuracy: 0.250000\n",
      "2.6137684325e-06 12873.1661519\n",
      "iteration 0 / 500: loss 215.461404\n",
      "iteration 100 / 500: loss 10.012416\n",
      "iteration 200 / 500: loss 10.593024\n",
      "iteration 300 / 500: loss 7.794088\n",
      "iteration 400 / 500: loss 6.574075\n",
      "training accuracy: 0.266122\n",
      "validation accuracy: 0.230000\n",
      "1.4415664965e-06 15505.2630711\n",
      "iteration 0 / 500: loss 260.967020\n",
      "iteration 100 / 500: loss 8.773699\n",
      "iteration 200 / 500: loss 6.494258\n",
      "iteration 300 / 500: loss 5.549175\n",
      "iteration 400 / 500: loss 5.901278\n",
      "training accuracy: 0.329388\n",
      "validation accuracy: 0.290000\n",
      "1.8198852815e-06 150471.399383\n",
      "iteration 0 / 500: loss 2315.932772\n",
      "iteration 100 / 500: loss 10.586895\n",
      "iteration 200 / 500: loss 10.633888\n",
      "iteration 300 / 500: loss 10.509475\n",
      "iteration 400 / 500: loss 9.694776\n",
      "training accuracy: 0.224286\n",
      "validation accuracy: 0.250000\n",
      "1.79586634421e-07 10973.3402701\n",
      "iteration 0 / 500: loss 191.925447\n",
      "iteration 100 / 500: loss 121.202491\n",
      "iteration 200 / 500: loss 81.276767\n",
      "iteration 300 / 500: loss 55.513343\n",
      "iteration 400 / 500: loss 39.151296\n",
      "training accuracy: 0.371837\n",
      "validation accuracy: 0.210000\n",
      "3.87459062243e-06 371280.49823\n",
      "iteration 0 / 500: loss 5769.326908\n",
      "iteration 100 / 500: loss 130.472765\n",
      "iteration 200 / 500: loss 140.457777\n",
      "iteration 300 / 500: loss 157.590150\n",
      "iteration 400 / 500: loss 141.801192\n",
      "training accuracy: 0.111837\n",
      "validation accuracy: 0.160000\n",
      "2.0745068778e-07 22220.8495451\n",
      "iteration 0 / 500: loss 368.592224\n",
      "iteration 100 / 500: loss 140.386171\n",
      "iteration 200 / 500: loss 57.215264\n",
      "iteration 300 / 500: loss 24.989631\n",
      "iteration 400 / 500: loss 13.079098\n",
      "training accuracy: 0.415306\n",
      "validation accuracy: 0.370000\n",
      "lr 1.181556e-07 reg 1.287401e+04 train accuracy: 0.333265 val accuracy: 0.300000\n",
      "lr 1.795866e-07 reg 1.097334e+04 train accuracy: 0.371837 val accuracy: 0.210000\n",
      "lr 2.074507e-07 reg 2.222085e+04 train accuracy: 0.415306 val accuracy: 0.370000\n",
      "lr 2.737551e-07 reg 7.228785e+05 train accuracy: 0.295510 val accuracy: 0.290000\n",
      "lr 3.009447e-07 reg 3.654017e+04 train accuracy: 0.401224 val accuracy: 0.290000\n",
      "lr 3.264640e-07 reg 1.114189e+05 train accuracy: 0.341633 val accuracy: 0.280000\n",
      "lr 4.203115e-07 reg 1.459891e+04 train accuracy: 0.425918 val accuracy: 0.310000\n",
      "lr 6.707121e-07 reg 1.850978e+05 train accuracy: 0.281837 val accuracy: 0.290000\n",
      "lr 7.401418e-07 reg 2.747166e+05 train accuracy: 0.291429 val accuracy: 0.330000\n",
      "lr 1.000570e-06 reg 1.522177e+05 train accuracy: 0.258367 val accuracy: 0.180000\n",
      "lr 1.029538e-06 reg 2.273002e+05 train accuracy: 0.244898 val accuracy: 0.190000\n",
      "lr 1.388036e-06 reg 1.318830e+05 train accuracy: 0.237551 val accuracy: 0.250000\n",
      "lr 1.441566e-06 reg 1.550526e+04 train accuracy: 0.329388 val accuracy: 0.290000\n",
      "lr 1.819885e-06 reg 1.504714e+05 train accuracy: 0.224286 val accuracy: 0.250000\n",
      "lr 2.613768e-06 reg 1.287317e+04 train accuracy: 0.266122 val accuracy: 0.230000\n",
      "lr 3.409197e-06 reg 7.901803e+05 train accuracy: 0.077551 val accuracy: 0.080000\n",
      "lr 3.874591e-06 reg 3.712805e+05 train accuracy: 0.111837 val accuracy: 0.160000\n",
      "lr 4.923978e-06 reg 6.281199e+04 train accuracy: 0.171429 val accuracy: 0.200000\n",
      "lr 5.288443e-06 reg 4.033060e+05 train accuracy: 0.085510 val accuracy: 0.130000\n",
      "lr 5.957921e-06 reg 1.282184e+05 train accuracy: 0.188367 val accuracy: 0.130000\n",
      "best validation accuracy achieved during cross-validation: 0.370000\n"
     ]
    }
   ],
   "source": [
    "from cs231n.classifiers import LinearSVM\n",
    "from numpy.random import uniform\n",
    "\n",
    "# Use the validation set to tune hyperparameters (regularization strength and\n",
    "# learning rate). You should experiment with different ranges for the learning\n",
    "# rates and regularization strengths; if you are careful you should be able to\n",
    "# get a classification accuracy of about 0.4 on the validation set.\n",
    "\n",
    "learning_rates = [1e-7, 5e-6]\n",
    "regularization_strengths = [5e4, 1e5]\n",
    "\n",
    "# results is dictionary mapping tuples of the form\n",
    "# (learning_rate, regularization_strength) to tuples of the form\n",
    "# (training_accuracy, validation_accuracy). The accuracy is simply the fraction\n",
    "# of data points that are correctly classified.\n",
    "results = {}\n",
    "best_val = -1   # The highest validation accuracy that we have seen so far.\n",
    "best_svm = None # The LinearSVM object that achieved the highest validation rate.\n",
    "\n",
    "################################################################################\n",
    "# TODO:                                                                        #\n",
    "# Write code that chooses the best hyperparameters by tuning on the validation #\n",
    "# set. For each combination of hyperparameters, train a linear SVM on the      #\n",
    "# training set, compute its accuracy on the training and validation sets, and  #\n",
    "# store these numbers in the results dictionary. In addition, store the best   #\n",
    "# validation accuracy in best_val and the LinearSVM object that achieves this  #\n",
    "# accuracy in best_svm.                                                        #\n",
    "#                                                                              #\n",
    "# Hint: You should use a small value for num_iters as you develop your         #\n",
    "# validation code so that the SVMs don't take much time to train; once you are #\n",
    "# confident that your validation code works, you should rerun the validation   #\n",
    "# code with a larger value for num_iters.                                      #\n",
    "################################################################################\n",
    "\n",
    "# don't use grid search, as one paramenter may more important than another\n",
    "# learning_rates = np.logspace(-7, -6, num=5, endpoint=False, base=10.0)\n",
    "# regularization_strengths = np.logspace(4, 5, num = 5, endpoint=False, base=10.0)\n",
    "# for lr in learning_rates:\n",
    "#     for rs in regularization_strengths:\n",
    "        \n",
    "for count in range(20):\n",
    "        lr = 10**uniform(-7,-5)\n",
    "        rs = 10**uniform(4,6)\n",
    "        print lr, rs\n",
    "        svm = LinearSVM()\n",
    "        svm.train(X_train, y_train, learning_rate=lr, reg=rs,num_iters=500, verbose=True)\n",
    "        \n",
    "        y_train_pred = svm.predict(X_train)\n",
    "        train_ac = np.mean(y_train == y_train_pred)\n",
    "        print 'training accuracy: %f' % (train_ac, )\n",
    "        \n",
    "        y_val_pred = svm.predict(X_val)\n",
    "        val_ac = np.mean(y_val == y_val_pred)\n",
    "        print 'validation accuracy: %f' % (val_ac, )\n",
    "        \n",
    "        if(val_ac > best_val):\n",
    "            best_val = val_ac\n",
    "            best_svm = svm\n",
    "        \n",
    "        results[(lr,rs)] = (np.mean(y_train == y_train_pred), np.mean(y_val == y_val_pred))\n",
    "################################################################################\n",
    "#                              END OF YOUR CODE                                #\n",
    "################################################################################\n",
    "    \n",
    "# Print out results.\n",
    "for lr, reg in sorted(results):\n",
    "    train_accuracy, val_accuracy = results[(lr, reg)]\n",
    "    print 'lr %e reg %e train accuracy: %f val accuracy: %f' % (\n",
    "                lr, reg, train_accuracy, val_accuracy)\n",
    "    \n",
    "print 'best validation accuracy achieved during cross-validation: %f' % best_val"
   ]
  },
  {
   "cell_type": "code",
   "execution_count": 26,
   "metadata": {
    "collapsed": false
   },
   "outputs": [
    {
     "data": {
      "image/png": "[encoded data removed]",
      "text/plain": [
       "<matplotlib.figure.Figure at 0x66b2a190>"
      ]
     },
     "metadata": {},
     "output_type": "display_data"
    }
   ],
   "source": [
    "# Visualize the cross-validation results\n",
    "import math\n",
    "x_scatter = [math.log10(x[0]) for x in results]\n",
    "y_scatter = [math.log10(x[1]) for x in results]\n",
    "\n",
    "# plot training accuracy\n",
    "marker_size = 100\n",
    "colors = [results[x][0] for x in results]\n",
    "plt.subplot(2, 1, 1)\n",
    "plt.scatter(x_scatter, y_scatter, marker_size, c=colors)\n",
    "plt.colorbar()\n",
    "plt.xlabel('log learning rate')\n",
    "plt.ylabel('log regularization strength')\n",
    "plt.title('CIFAR-10 training accuracy')\n",
    "\n",
    "# plot validation accuracy\n",
    "colors = [results[x][1] for x in results] # default size of markers is 20\n",
    "plt.subplot(2, 1, 2)\n",
    "plt.scatter(x_scatter, y_scatter, marker_size, c=colors)\n",
    "plt.colorbar()\n",
    "plt.xlabel('log learning rate')\n",
    "plt.ylabel('log regularization strength')\n",
    "plt.title('CIFAR-10 validation accuracy')\n",
    "plt.show()"
   ]
  },
  {
   "cell_type": "code",
   "execution_count": 27,
   "metadata": {
    "collapsed": false
   },
   "outputs": [
    {
     "name": "stdout",
     "output_type": "stream",
     "text": [
      "linear SVM on raw pixels final test set accuracy: 0.450000\n"
     ]
    }
   ],
   "source": [
    "# Evaluate the best svm on test set\n",
    "y_test_pred = best_svm.predict(X_test)\n",
    "test_accuracy = np.mean(y_test == y_test_pred)\n",
    "print 'linear SVM on raw pixels final test set accuracy: %f' % test_accuracy"
   ]
  },
  {
   "cell_type": "code",
   "execution_count": 28,
   "metadata": {
    "collapsed": false
   },
   "outputs": [
    {
     "data": {
      "image/png": "[encoded data removed]",
      "text/plain": [
       "<matplotlib.figure.Figure at 0x66b4eb50>"
      ]
     },
     "metadata": {},
     "output_type": "display_data"
    }
   ],
   "source": [
    "# Visualize the learned weights for each class.\n",
    "# Depending on your choice of learning rate and regularization strength, these may\n",
    "# or may not be nice to look at.\n",
    "w = best_svm.W[:-1,:] # strip out the bias\n",
    "w = w.reshape(32, 32, 3, 10)\n",
    "w_min, w_max = np.min(w), np.max(w)\n",
    "classes = ['plane', 'car', 'bird', 'cat', 'deer', 'dog', 'frog', 'horse', 'ship', 'truck']\n",
    "for i in xrange(10):\n",
    "  plt.subplot(2, 5, i + 1)\n",
    "    \n",
    "  # Rescale the weights to be between 0 and 255\n",
    "  wimg = 255.0 * (w[:, :, :, i].squeeze() - w_min) / (w_max - w_min)\n",
    "  plt.imshow(wimg.astype('uint8'))\n",
    "  plt.axis('off')\n",
    "  plt.title(classes[i])"
   ]
  },
  {
   "cell_type": "markdown",
   "metadata": {},
   "source": [
    "### Inline question 2:\n",
    "Describe what your visualized SVM weights look like, and offer a brief explanation for why they look they way that they do.\n",
    "\n",
    "**Your answer:** *fill this in*"
   ]
  }
 ],
 "metadata": {
  "kernelspec": {
   "display_name": "Python 2",
   "language": "python",
   "name": "python2"
  },
  "language_info": {
   "codemirror_mode": {
    "name": "ipython",
    "version": 2
   },
   "file_extension": ".py",
   "mimetype": "text/x-python",
   "name": "python",
   "nbconvert_exporter": "python",
   "pygments_lexer": "ipython2",
   "version": "2.7.9"
  }
 },
 "nbformat": 4,
 "nbformat_minor": 0
}

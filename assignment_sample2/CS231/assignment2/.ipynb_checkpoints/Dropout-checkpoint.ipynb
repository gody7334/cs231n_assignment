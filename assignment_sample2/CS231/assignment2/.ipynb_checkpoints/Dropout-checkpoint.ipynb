{
 "cells": [
  {
   "cell_type": "markdown",
   "metadata": {},
   "source": [
    "# Dropout\n",
    "Dropout [1] is a technique for regularizing neural networks by randomly setting some features to zero during the forward pass. In this exercise you will implement a dropout layer and modify your fully-connected network to optionally use dropout.\n",
    "\n",
    "[1] Geoffrey E. Hinton et al, \"Improving neural networks by preventing co-adaptation of feature detectors\", arXiv 2012"
   ]
  },
  {
   "cell_type": "code",
   "execution_count": 42,
   "metadata": {
    "collapsed": false
   },
   "outputs": [
    {
     "name": "stdout",
     "output_type": "stream",
     "text": [
      "The autoreload extension is already loaded. To reload it, use:\n",
      "  %reload_ext autoreload\n"
     ]
    }
   ],
   "source": [
    "# As usual, a bit of setup\n",
    "\n",
    "import time\n",
    "import numpy as np\n",
    "import matplotlib.pyplot as plt\n",
    "from cs231n.classifiers.fc_net import *\n",
    "from cs231n.data_utils import get_CIFAR10_data\n",
    "from cs231n.gradient_check import eval_numerical_gradient, eval_numerical_gradient_array\n",
    "from cs231n.solver import Solver\n",
    "\n",
    "%matplotlib inline\n",
    "plt.rcParams['figure.figsize'] = (10.0, 8.0) # set default size of plots\n",
    "plt.rcParams['image.interpolation'] = 'nearest'\n",
    "plt.rcParams['image.cmap'] = 'gray'\n",
    "\n",
    "# for auto-reloading external modules\n",
    "# see http://stackoverflow.com/questions/1907993/autoreload-of-modules-in-ipython\n",
    "%load_ext autoreload\n",
    "%autoreload 2\n",
    "\n",
    "def rel_error(x, y):\n",
    "  \"\"\" returns relative error \"\"\"\n",
    "  return np.max(np.abs(x - y) / (np.maximum(1e-8, np.abs(x) + np.abs(y))))"
   ]
  },
  {
   "cell_type": "code",
   "execution_count": 17,
   "metadata": {
    "collapsed": false
   },
   "outputs": [
    {
     "name": "stdout",
     "output_type": "stream",
     "text": [
      "X_val:  (1000, 3, 32, 32)\n",
      "X_train:  (49000, 3, 32, 32)\n",
      "X_test:  (1000, 3, 32, 32)\n",
      "y_val:  (1000,)\n",
      "y_train:  (49000,)\n",
      "y_test:  (1000,)\n"
     ]
    }
   ],
   "source": [
    "# Load the (preprocessed) CIFAR10 data.\n",
    "\n",
    "data = get_CIFAR10_data()\n",
    "for k, v in data.iteritems():\n",
    "  print '%s: ' % k, v.shape"
   ]
  },
  {
   "cell_type": "markdown",
   "metadata": {},
   "source": [
    "# Dropout forward pass\n",
    "In the file `cs231n/layers.py`, implement the forward pass for dropout. Since dropout behaves differently during training and testing, make sure to implement the operation for both modes.\n",
    "\n",
    "Once you have done so, run the cell below to test your implementation."
   ]
  },
  {
   "cell_type": "code",
   "execution_count": 24,
   "metadata": {
    "collapsed": false
   },
   "outputs": [
    {
     "name": "stdout",
     "output_type": "stream",
     "text": [
      "Running tests with p =  0.3\n",
      "Mean of input:  9.9983273802\n",
      "Mean of train-time output:  10.0145412318\n",
      "Mean of test-time output:  9.9983273802\n",
      "Fraction of train-time output set to zero:  0.699404\n",
      "Fraction of test-time output set to zero:  0.0\n",
      "\n",
      "Running tests with p =  0.6\n",
      "Mean of input:  9.9983273802\n",
      "Mean of train-time output:  9.99475690035\n",
      "Mean of test-time output:  9.9983273802\n",
      "Fraction of train-time output set to zero:  0.400236\n",
      "Fraction of test-time output set to zero:  0.0\n",
      "\n",
      "Running tests with p =  0.1\n",
      "Mean of input:  9.9983273802\n",
      "Mean of train-time output:  10.0219807372\n",
      "Mean of test-time output:  9.9983273802\n",
      "Fraction of train-time output set to zero:  0.89974\n",
      "Fraction of test-time output set to zero:  0.0\n",
      "\n"
     ]
    }
   ],
   "source": [
    "x = np.random.randn(500, 500) + 10\n",
    "\n",
    "for p in [0.3, 0.6, 0.1]:\n",
    "  out, cache = dropout_forward(x, {'mode': 'train', 'p': p})\n",
    "  out_test, _ = dropout_forward(x, {'mode': 'test', 'p': p})\n",
    "\n",
    "  print 'Running tests with p = ', p\n",
    "  print 'Mean of input: ', x.mean()\n",
    "  print 'Mean of train-time output: ', out.mean()\n",
    "  print 'Mean of test-time output: ', out_test.mean()\n",
    "  print 'Fraction of train-time output set to zero: ', (out == 0).mean()\n",
    "  print 'Fraction of test-time output set to zero: ', (out_test == 0).mean()\n",
    "  print"
   ]
  },
  {
   "cell_type": "markdown",
   "metadata": {},
   "source": [
    "# Dropout backward pass\n",
    "In the file `cs231n/layers.py`, implement the backward pass for dropout. After doing so, run the following cell to numerically gradient-check your implementation."
   ]
  },
  {
   "cell_type": "code",
   "execution_count": 25,
   "metadata": {
    "collapsed": false
   },
   "outputs": [
    {
     "name": "stdout",
     "output_type": "stream",
     "text": [
      "dx relative error:  5.44560737627e-11\n"
     ]
    }
   ],
   "source": [
    "x = np.random.randn(10, 10) + 10\n",
    "dout = np.random.randn(*x.shape)\n",
    "\n",
    "dropout_param = {'mode': 'train', 'p': 0.8, 'seed': 123}\n",
    "out, cache = dropout_forward(x, dropout_param)\n",
    "dx = dropout_backward(dout, cache)\n",
    "dx_num = eval_numerical_gradient_array(lambda xx: dropout_forward(xx, dropout_param)[0], x, dout)\n",
    "\n",
    "print 'dx relative error: ', rel_error(dx, dx_num)"
   ]
  },
  {
   "cell_type": "markdown",
   "metadata": {},
   "source": [
    "# Fully-connected nets with Dropout\n",
    "In the file `cs231n/classifiers/fc_net.py`, modify your implementation to use dropout. Specificially, if the constructor the the net receives a nonzero value for the `dropout` parameter, then the net should add dropout immediately after every ReLU nonlinearity. After doing so, run the following to numerically gradient-check your implementation."
   ]
  },
  {
   "cell_type": "code",
   "execution_count": 30,
   "metadata": {
    "collapsed": false
   },
   "outputs": [
    {
     "name": "stdout",
     "output_type": "stream",
     "text": [
      "Running check with dropout =  0\n",
      "Initial loss:  2.30280474844\n",
      "W1 relative error: 1.09e-01\n",
      "W2 relative error: 3.53e-04\n",
      "W3 relative error: 3.99e-07\n",
      "b1 relative error: 3.50e-02\n",
      "b2 relative error: 4.34e-09\n",
      "b3 relative error: 8.14e-11\n",
      "\n",
      "Running check with dropout =  0.25\n",
      "We use dropout with p =0.250000\n",
      "Initial loss:  2.31002032872\n",
      "W1 relative error: 1.70e-08\n",
      "W2 relative error: 2.60e-10\n",
      "W3 relative error: 5.32e-09\n",
      "b1 relative error: 2.27e-09\n",
      "b2 relative error: 6.83e-10\n",
      "b3 relative error: 1.65e-10\n",
      "\n",
      "Running check with dropout =  1.0\n",
      "We use dropout with p =1.000000\n",
      "Initial loss:  2.30698970784\n",
      "W1 relative error: 2.84e-06\n",
      "W2 relative error: 1.29e-06\n",
      "W3 relative error: 1.19e-07\n",
      "b1 relative error: 9.46e-09\n",
      "b2 relative error: 3.40e-09\n",
      "b3 relative error: 8.27e-11\n",
      "\n"
     ]
    }
   ],
   "source": [
    "N, D, H1, H2, C = 2, 15, 20, 30, 10\n",
    "X = np.random.randn(N, D)\n",
    "y = np.random.randint(C, size=(N,))\n",
    "\n",
    "for dropout in [0, 0.25, 1.0]:\n",
    "  print 'Running check with dropout = ', dropout\n",
    "  model = FullyConnectedNet([H1, H2], input_dim=D, num_classes=C,\n",
    "                            weight_scale=5e-2, dtype=np.float64,\n",
    "                            dropout=dropout, seed=123)\n",
    "\n",
    "  loss, grads = model.loss(X, y)\n",
    "  print 'Initial loss: ', loss\n",
    "\n",
    "  for name in sorted(grads):\n",
    "    f = lambda _: model.loss(X, y)[0]\n",
    "    grad_num = eval_numerical_gradient(f, model.params[name], verbose=False, h=1e-5)\n",
    "    print '%s relative error: %.2e' % (name, rel_error(grad_num, grads[name]))\n",
    "  print"
   ]
  },
  {
   "cell_type": "markdown",
   "metadata": {},
   "source": [
    "# Regularization experiment\n",
    "As an experiment, we will train a pair of two-layer networks on 500 training examples: one will use no dropout, and one will use a dropout probability of 0.75. We will then visualize the training and validation accuracies of the two networks over time."
   ]
  },
  {
   "cell_type": "code",
   "execution_count": 75,
   "metadata": {
    "collapsed": false,
    "scrolled": true
   },
   "outputs": [
    {
     "name": "stdout",
     "output_type": "stream",
     "text": [
      "We use batchnorm here\n",
      "0.0\n",
      "(Iteration 1 / 980) loss: 2.322665\n",
      "(Epoch 0 / 20) train acc: 0.265000; val_acc: 0.276000\n",
      "(Epoch 1 / 20) train acc: 0.451000; val_acc: 0.427000\n",
      "(Epoch 2 / 20) train acc: 0.467000; val_acc: 0.472000\n",
      "(Epoch 3 / 20) train acc: 0.502000; val_acc: 0.485000\n",
      "(Epoch 4 / 20) train acc: 0.527000; val_acc: 0.492000\n",
      "(Epoch 5 / 20) train acc: 0.540000; val_acc: 0.504000\n",
      "(Epoch 6 / 20) train acc: 0.568000; val_acc: 0.508000\n",
      "(Epoch 7 / 20) train acc: 0.602000; val_acc: 0.513000\n",
      "(Epoch 8 / 20) train acc: 0.593000; val_acc: 0.512000\n",
      "(Epoch 9 / 20) train acc: 0.582000; val_acc: 0.521000\n",
      "(Epoch 10 / 20) train acc: 0.625000; val_acc: 0.539000\n",
      "(Iteration 501 / 980) loss: 1.064489\n",
      "(Epoch 11 / 20) train acc: 0.637000; val_acc: 0.525000\n",
      "(Epoch 12 / 20) train acc: 0.665000; val_acc: 0.531000\n",
      "(Epoch 13 / 20) train acc: 0.649000; val_acc: 0.538000\n",
      "(Epoch 14 / 20) train acc: 0.676000; val_acc: 0.550000\n",
      "(Epoch 15 / 20) train acc: 0.669000; val_acc: 0.524000\n",
      "(Epoch 16 / 20) train acc: 0.732000; val_acc: 0.534000\n",
      "(Epoch 17 / 20) train acc: 0.698000; val_acc: 0.543000\n",
      "(Epoch 18 / 20) train acc: 0.730000; val_acc: 0.539000\n",
      "(Epoch 19 / 20) train acc: 0.714000; val_acc: 0.549000\n",
      "(Epoch 20 / 20) train acc: 0.733000; val_acc: 0.552000\n",
      "We use dropout with p =0.750000\n",
      "We use batchnorm here\n",
      "0.75\n",
      "(Iteration 1 / 980) loss: 2.334370\n",
      "(Epoch 0 / 20) train acc: 0.271000; val_acc: 0.279000\n",
      "(Epoch 1 / 20) train acc: 0.419000; val_acc: 0.430000\n",
      "(Epoch 2 / 20) train acc: 0.484000; val_acc: 0.468000\n",
      "(Epoch 3 / 20) train acc: 0.509000; val_acc: 0.480000\n",
      "(Epoch 4 / 20) train acc: 0.517000; val_acc: 0.487000\n",
      "(Epoch 5 / 20) train acc: 0.548000; val_acc: 0.507000\n",
      "(Epoch 6 / 20) train acc: 0.551000; val_acc: 0.497000\n",
      "(Epoch 7 / 20) train acc: 0.559000; val_acc: 0.501000\n",
      "(Epoch 8 / 20) train acc: 0.552000; val_acc: 0.529000\n",
      "(Epoch 9 / 20) train acc: 0.594000; val_acc: 0.525000\n",
      "(Epoch 10 / 20) train acc: 0.579000; val_acc: 0.536000\n",
      "(Iteration 501 / 980) loss: 1.227121\n",
      "(Epoch 11 / 20) train acc: 0.606000; val_acc: 0.536000\n",
      "(Epoch 12 / 20) train acc: 0.597000; val_acc: 0.546000\n",
      "(Epoch 13 / 20) train acc: 0.590000; val_acc: 0.536000\n",
      "(Epoch 14 / 20) train acc: 0.606000; val_acc: 0.534000\n",
      "(Epoch 15 / 20) train acc: 0.640000; val_acc: 0.554000\n",
      "(Epoch 16 / 20) train acc: 0.613000; val_acc: 0.565000\n",
      "(Epoch 17 / 20) train acc: 0.636000; val_acc: 0.551000\n",
      "(Epoch 18 / 20) train acc: 0.637000; val_acc: 0.557000\n",
      "(Epoch 19 / 20) train acc: 0.659000; val_acc: 0.562000\n",
      "(Epoch 20 / 20) train acc: 0.700000; val_acc: 0.552000\n"
     ]
    }
   ],
   "source": [
    "# Train two identical nets, one with dropout and one without\n",
    "\n",
    "num_train = 500\n",
    "small_data = {\n",
    "  'X_train': data['X_train'][:num_train],\n",
    "  'y_train': data['y_train'][:num_train],\n",
    "  'X_val': data['X_val'],\n",
    "  'y_val': data['y_val'],\n",
    "}\n",
    "\n",
    "solvers = {}\n",
    "dropout_choices = [0.0, 0.75]\n",
    "for dropout in dropout_choices:\n",
    "  model = FullyConnectedNet([500], dropout=dropout)\n",
    "  print dropout\n",
    "\n",
    "  solver = Solver(model, small_data,\n",
    "                  num_epochs=20, batch_size=100,\n",
    "                  update_rule='adam',\n",
    "                  optim_config={\n",
    "                    'learning_rate': 5e-4,\n",
    "                  },\n",
    "                  verbose=True, print_every=100)\n",
    "  solver.train()\n",
    "  solvers[dropout] = solver"
   ]
  },
  {
   "cell_type": "code",
   "execution_count": 76,
   "metadata": {
    "collapsed": false
   },
   "outputs": [
    {
     "data": {
      "image/png": "[encoded data removed]",
      "text/plain": [
       "<matplotlib.figure.Figure at 0x7f721610c510>"
      ]
     },
     "metadata": {},
     "output_type": "display_data"
    }
   ],
   "source": [
    "# Plot train and validation accuracies of the two models\n",
    "\n",
    "train_accs = []\n",
    "val_accs = []\n",
    "for dropout in dropout_choices:\n",
    "  solver = solvers[dropout]\n",
    "  train_accs.append(solver.train_acc_history[-1])\n",
    "  val_accs.append(solver.val_acc_history[-1])\n",
    "\n",
    "plt.subplot(3, 1, 1)\n",
    "for dropout in dropout_choices:\n",
    "  plt.plot(solvers[dropout].train_acc_history, 'o', label='%.2f dropout' % dropout)\n",
    "plt.title('Train accuracy')\n",
    "plt.xlabel('Epoch')\n",
    "plt.ylabel('Accuracy')\n",
    "plt.legend(ncol=2, loc='lower right')\n",
    "  \n",
    "plt.subplot(3, 1, 2)\n",
    "for dropout in dropout_choices:\n",
    "  plt.plot(solvers[dropout].val_acc_history, 'o', label='%.2f dropout' % dropout)\n",
    "plt.title('Val accuracy')\n",
    "plt.xlabel('Epoch')\n",
    "plt.ylabel('Accuracy')\n",
    "plt.legend(ncol=2, loc='lower right')\n",
    "\n",
    "plt.gcf().set_size_inches(15, 15)\n",
    "plt.show()"
   ]
  },
  {
   "cell_type": "markdown",
   "metadata": {},
   "source": [
    "# Question\n",
    "Explain what you see in this experiment. What does it suggest about dropout?"
   ]
  },
  {
   "cell_type": "markdown",
   "metadata": {},
   "source": [
    "# Answer\n"
   ]
  }
 ],
 "metadata": {
  "kernelspec": {
   "display_name": "Python 2",
   "language": "python",
   "name": "python2"
  },
  "language_info": {
   "codemirror_mode": {
    "name": "ipython",
    "version": 2
   },
   "file_extension": ".py",
   "mimetype": "text/x-python",
   "name": "python",
   "nbconvert_exporter": "python",
   "pygments_lexer": "ipython2",
   "version": "2.7.13"
  }
 },
 "nbformat": 4,
 "nbformat_minor": 0
}
